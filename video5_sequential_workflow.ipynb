{
 "cells": [
  {
   "cell_type": "markdown",
   "id": "0b741478",
   "metadata": {},
   "source": [
    "## Simple Workflow"
   ]
  },
  {
   "cell_type": "code",
   "execution_count": 1,
   "id": "09e038fc",
   "metadata": {},
   "outputs": [],
   "source": [
    "from langgraph.graph import StateGraph\n",
    "from langgraph.graph import START, END"
   ]
  },
  {
   "cell_type": "code",
   "execution_count": 2,
   "id": "66b9286a",
   "metadata": {},
   "outputs": [],
   "source": [
    "from typing import TypedDict\n",
    "\n",
    "# define state\n",
    "class BMIState(TypedDict):\n",
    "    weight_kg: float\n",
    "    height_m: float\n",
    "    bmi: float\n",
    "    category: str"
   ]
  },
  {
   "cell_type": "code",
   "execution_count": 3,
   "id": "6a00df61",
   "metadata": {},
   "outputs": [],
   "source": [
    "def calculate_bmi(state: BMIState) -> BMIState:\n",
    "    \"\"\"calculates state\"\"\"\n",
    "\n",
    "    weight = state[\"weight_kg\"]\n",
    "    height = state[\"height_m\"]\n",
    "\n",
    "    bmi = weight / (height**2)\n",
    "    state[\"bmi\"] = round(bmi, 2)\n",
    "\n",
    "    return state"
   ]
  },
  {
   "cell_type": "code",
   "execution_count": 4,
   "id": "e2ae2589",
   "metadata": {},
   "outputs": [],
   "source": [
    "def bmi_category(state: BMIState) -> BMIState:\n",
    "    \"\"\"labels bmi category\"\"\"\n",
    "\n",
    "    if state[\"bmi\"] > 10:\n",
    "        state[\"category\"] = \"Unhealthy\"\n",
    "\n",
    "    elif state[\"bmi\"] < 5:\n",
    "        state[\"category\"] = \"Unhealty\"\n",
    "\n",
    "    else:\n",
    "        state[\"category\"] = \"healthy\"\n",
    "\n",
    "    return state"
   ]
  },
  {
   "cell_type": "code",
   "execution_count": 5,
   "id": "6dac9204",
   "metadata": {},
   "outputs": [],
   "source": [
    "# define graph\n",
    "graph = StateGraph(BMIState)\n",
    "\n",
    "# add node\n",
    "graph.add_node('calculate_bmi', calculate_bmi)\n",
    "graph.add_node(\"bmi_category\", bmi_category)\n",
    "\n",
    "# add edges\n",
    "graph.add_edge(START, 'calculate_bmi')\n",
    "graph.add_edge(\"calculate_bmi\", \"bmi_category\")\n",
    "graph.add_edge(\"bmi_category\", END)\n",
    "\n",
    "# compile graph\n",
    "workflow = graph.compile()"
   ]
  },
  {
   "cell_type": "code",
   "execution_count": 6,
   "id": "31461546",
   "metadata": {},
   "outputs": [
    {
     "name": "stdout",
     "output_type": "stream",
     "text": [
      "{'weight_kg': 80, 'height_m': 1.6, 'bmi': 31.25, 'category': 'Unhealthy'}\n"
     ]
    }
   ],
   "source": [
    "# execute graph\n",
    "input_state: BMIState = {\"weight_kg\": 80, \"height_m\": 1.6}  # type: ignore\n",
    "output_state = workflow.invoke(input_state)\n",
    "print(output_state)"
   ]
  },
  {
   "cell_type": "code",
   "execution_count": 7,
   "id": "f1263b3f",
   "metadata": {},
   "outputs": [
    {
     "data": {
      "image/png": "[encoded data removed]",
      "text/plain": [
       "<IPython.core.display.Image object>"
      ]
     },
     "execution_count": 7,
     "metadata": {},
     "output_type": "execute_result"
    }
   ],
   "source": [
    "from IPython.display import Image\n",
    "Image(workflow.get_graph().draw_mermaid_png())"
   ]
  },
  {
   "cell_type": "markdown",
   "id": "a6c45b6e",
   "metadata": {},
   "source": [
    "## Simple LLM workflow"
   ]
  },
  {
   "cell_type": "code",
   "execution_count": 8,
   "id": "fb8988ff",
   "metadata": {},
   "outputs": [],
   "source": [
    "from langgraph.graph import StateGraph, START, END\n",
    "from langchain_ollama import ChatOllama\n",
    "from typing import TypedDict"
   ]
  },
  {
   "cell_type": "code",
   "execution_count": 10,
   "id": "3ab0eda1",
   "metadata": {},
   "outputs": [
    {
     "data": {
      "text/plain": [
       "AIMessage(content=\" I'm just a computer program, so I don't have feelings or emotions. But I'm working perfectly fine and ready to help you with any questions or tasks you might have! What can I assist you with today?\", additional_kwargs={}, response_metadata={'model': 'mistral', 'created_at': '2025-08-03T11:32:23.7942572Z', 'done': True, 'done_reason': 'stop', 'total_duration': 27256041400, 'load_duration': 24555904900, 'prompt_eval_count': 9, 'prompt_eval_duration': 415259200, 'eval_count': 48, 'eval_duration': 2284216900, 'model_name': 'mistral'}, id='run--5915fab3-e958-43c8-8995-7415756f8cdd-0', usage_metadata={'input_tokens': 9, 'output_tokens': 48, 'total_tokens': 57})"
      ]
     },
     "execution_count": 10,
     "metadata": {},
     "output_type": "execute_result"
    }
   ],
   "source": [
    "model = ChatOllama(model= 'mistral')\n",
    "model.invoke(\"How are you?\")"
   ]
  },
  {
   "cell_type": "code",
   "execution_count": 11,
   "id": "0ac32467",
   "metadata": {},
   "outputs": [],
   "source": [
    "class LLMState(TypedDict):\n",
    "    question: str\n",
    "    answer: str"
   ]
  },
  {
   "cell_type": "code",
   "execution_count": 12,
   "id": "f271ba94",
   "metadata": {},
   "outputs": [],
   "source": [
    "def llm_qa(state: LLMState)-> LLMState:\n",
    "    question = state[\"question\"]\n",
    "\n",
    "    prompt = f\"Answer the following {question}\"\n",
    "\n",
    "    answer = str(model.invoke(prompt).content)\n",
    "\n",
    "    state['answer'] = answer\n",
    "\n",
    "    return state"
   ]
  },
  {
   "cell_type": "code",
   "execution_count": 13,
   "id": "a0c021e6",
   "metadata": {},
   "outputs": [],
   "source": [
    "graph = StateGraph(LLMState)\n",
    "\n",
    "graph.add_node('llm_qa', llm_qa)\n",
    "\n",
    "graph.add_edge(START, 'llm_qa')\n",
    "graph.add_edge('llm_qa', END)\n",
    "\n",
    "\n",
    "workflow = graph.compile()"
   ]
  },
  {
   "cell_type": "code",
   "execution_count": 14,
   "id": "b183f2be",
   "metadata": {},
   "outputs": [
    {
     "data": {
      "image/png": "[encoded data removed]",
      "text/plain": [
       "<IPython.core.display.Image object>"
      ]
     },
     "execution_count": 14,
     "metadata": {},
     "output_type": "execute_result"
    }
   ],
   "source": [
    "from IPython.display import Image\n",
    "Image(workflow.get_graph().draw_mermaid_png())\n"
   ]
  },
  {
   "cell_type": "code",
   "execution_count": 15,
   "id": "05910906",
   "metadata": {},
   "outputs": [],
   "source": [
    "# execute\n",
    "initial_state: LLMState = {'question': 'How far is moon from earth?', 'answer': ''}\n",
    "\n",
    "output_state = workflow.invoke(initial_state)"
   ]
  },
  {
   "cell_type": "code",
   "execution_count": 16,
   "id": "063bcb2d",
   "metadata": {},
   "outputs": [
    {
     "data": {
      "text/plain": [
       "' The average distance from the Moon to Earth is approximately 238,900 miles (384,400 kilometers). However, this distance varies because both the Earth and the Moon orbit around the Sun. At its closest point, known as perigee, the Moon can be as close as about 225,623 miles (363,104 kilometers) from Earth, while at its farthest point, or apogee, it can be about 252,088 miles (405,696 kilometers) away.'"
      ]
     },
     "execution_count": 16,
     "metadata": {},
     "output_type": "execute_result"
    }
   ],
   "source": [
    "output_state['answer']"
   ]
  },
  {
   "cell_type": "markdown",
   "id": "1b3e7faa",
   "metadata": {},
   "source": [
    "## Prompt Chaining"
   ]
  },
  {
   "cell_type": "code",
   "execution_count": 26,
   "id": "0eb0ebd0",
   "metadata": {},
   "outputs": [],
   "source": [
    "from langgraph.graph import StateGraph, START, END"
   ]
  },
  {
   "cell_type": "code",
   "execution_count": 27,
   "id": "4475fb04",
   "metadata": {},
   "outputs": [],
   "source": [
    "from typing import TypedDict\n",
    "\n",
    "# create a state schema\n",
    "class BlogState(TypedDict):\n",
    "    title: str\n",
    "    outline: str\n",
    "    content: str"
   ]
  },
  {
   "cell_type": "code",
   "execution_count": 28,
   "id": "d01fa53e",
   "metadata": {},
   "outputs": [
    {
     "data": {
      "text/plain": [
       "AIMessage(content=\"Okay, let's break down what a mobile number is:\\n\\n**What is a Mobile Number?**\\n\\nA mobile number is a unique identification number assigned to a mobile phone (like a smartphone or a basic cell phone). It's essentially a way for your phone to connect to a mobile network and communicate with other devices and people.\\n\\n**Here's a more detailed explanation:**\\n\\n* **It's a Unique Identifier:** Just like a house address, every mobile number is distinct.  No two phones can have the same number.\\n* **How it Works:** When you make a call, send a text message, or use data, your phone transmits the signal to a cell tower operated by a mobile network operator (like Verizon, AT&T, T-Mobile, Vodafone, etc.). This network then routes the communication to its destination.\\n* **Structure of a Mobile Number (Varies by Country):** The exact format of a mobile number differs depending on the country. However, a common structure looks like this:\\n    * **Country Code:**  This is the first digit(s) (e.g., +1 for the United States, +44 for the United Kingdom).\\n    * **Access Code:**  A short code that's specific to the country.\\n    * **Mobile Number:** The remaining digits identify the specific subscriber and their location.\\n\\n**Examples:**\\n\\n* **United States:**  1-800-555-1212 (this is a landline number, but illustrates the format) or 555-1212\\n* **United Kingdom:** 07700 900000\\n* **Germany:** 0800-1234567\\n* **India:** +91 9876543210\\n\\n**Key Differences from Landline Numbers:**\\n\\n* **Portability:** Mobile numbers are tied to a SIM (Subscriber Identity Module) card, which you can swap to use the same number on a different mobile device.\\n* **Movement:** You can use a mobile number while traveling, unlike a landline number, which is typically tied to a specific location.\\n\\n\\n**Resources for more information:**\\n\\n* **Wikipedia - Mobile Number:** [https://en.wikipedia.org/wiki/Mobile_number](https://en.wikipedia.org/wiki/Mobile_number)\\n* **Mobile Network Operators' Websites:** (Verizon, AT&T, T-Mobile, Vodafone, etc.) -  These sites usually have information about mobile number plans and services.\\n\\nDo you want to know more about a specific aspect of mobile numbers, such as:\\n\\n*   SIM cards?\\n*   How mobile numbers are assigned?\\n*   The cost of mobile phone plans?\", additional_kwargs={}, response_metadata={'model': 'gemma3:4b', 'created_at': '2025-08-03T12:30:29.9106181Z', 'done': True, 'done_reason': 'stop', 'total_duration': 63509404200, 'load_duration': 3416794700, 'prompt_eval_count': 14, 'prompt_eval_duration': 453198800, 'eval_count': 587, 'eval_duration': 59637832400, 'model_name': 'gemma3:4b'}, id='run--1d802bfa-973e-4b3f-a2fb-202901c1d538-0', usage_metadata={'input_tokens': 14, 'output_tokens': 587, 'total_tokens': 601})"
      ]
     },
     "execution_count": 28,
     "metadata": {},
     "output_type": "execute_result"
    }
   ],
   "source": [
    "from langchain_ollama import ChatOllama\n",
    "\n",
    "# initiate a model\n",
    "llm = ChatOllama(model=\"gemma3:4b\")"
   ]
  },
  {
   "cell_type": "code",
   "execution_count": 34,
   "id": "a0577a47",
   "metadata": {},
   "outputs": [
    {
     "data": {
      "text/plain": [
       "AIMessage(content='A mobile number, also known as a cell phone number or a telephone number, is a sequence of numbers assigned to either end-user subscription cards or embedded memory chips in mobile devices, although the latter is less common. It is used to distinguish one mobile subscriber from another.', additional_kwargs={}, response_metadata={'model': 'granite3.3:2b', 'created_at': '2025-08-03T13:29:27.1079553Z', 'done': True, 'done_reason': 'stop', 'total_duration': 1644649600, 'load_duration': 19104300, 'prompt_eval_count': 48, 'prompt_eval_duration': 99992500, 'eval_count': 58, 'eval_duration': 1521374200, 'model_name': 'granite3.3:2b'}, id='run--3000b965-8d5f-4f24-b6b5-6f2fb88d254f-0', usage_metadata={'input_tokens': 48, 'output_tokens': 58, 'total_tokens': 106})"
      ]
     },
     "execution_count": 34,
     "metadata": {},
     "output_type": "execute_result"
    }
   ],
   "source": [
    "from langchain_ollama import ChatOllama\n",
    "\n",
    "# initiate a model\n",
    "model = ChatOllama(model=\"granite3.3:2b\")\n",
    "model.invoke(\"What is mobile number?\")"
   ]
  },
  {
   "cell_type": "code",
   "execution_count": 35,
   "id": "08061269",
   "metadata": {},
   "outputs": [],
   "source": [
    "def create_outline(state: BlogState) -> BlogState:\n",
    "\n",
    "    title = state['title']\n",
    "    prompt = f\"Generate a detailed outline for a blog on the topic = {title}\"\n",
    "    outline = model.invoke(prompt).content\n",
    "    state['outline'] = str(outline)\n",
    "    return state\n"
   ]
  },
  {
   "cell_type": "code",
   "execution_count": 36,
   "id": "ddba0743",
   "metadata": {},
   "outputs": [],
   "source": [
    "def create_blog(state: BlogState) -> BlogState:\n",
    "    title = state['title']\n",
    "    outline = state['outline']\n",
    "    prompt = f\"Write a detailed blog on the title = {title} using the following outline: \\n {outline}\"\n",
    "    content = model.invoke(prompt).content\n",
    "    state['content'] = str(content)\n",
    "    return state"
   ]
  },
  {
   "cell_type": "code",
   "execution_count": 37,
   "id": "16d7cf85",
   "metadata": {},
   "outputs": [],
   "source": [
    "graph = StateGraph(BlogState)\n",
    "\n",
    "# nodes\n",
    "graph.add_node('create_outline', create_outline)\n",
    "graph.add_node('create_blog', create_blog)\n",
    "\n",
    "# edges\n",
    "graph.add_edge(START, 'create_outline')\n",
    "graph.add_edge('create_outline','create_blog')\n",
    "graph.add_edge('create_blog', END)\n",
    "\n",
    "\n",
    "# compile\n",
    "workflow = graph.compile()"
   ]
  },
  {
   "cell_type": "code",
   "execution_count": 38,
   "id": "f7f8f958",
   "metadata": {},
   "outputs": [
    {
     "name": "stdout",
     "output_type": "stream",
     "text": [
      "{'title': 'Rise of AI in India', 'outline': \"Title: The Rise of Artificial Intelligence in India: Opportunities, Challenges, and Future Prospects\\n\\nI. Introduction\\n   A. Brief overview of the AI landscape globally\\n   B. Focus on the unique AI journey in India\\n   C. Importance of understanding AI's impact on the Indian economy and society\\n\\nII. Historical Background of AI in India\\n   A. Early beginnings and research (1960s-1980s)\\n      1. Establishment of AI institutions like IITs, IISc\\n      2. Key milestones and notable figures\\n   B. The decline and resurgence (1990s-2010s)\\n      1. Factors contributing to the slowdown\\n      2. Revival and focus on industry applications\\n\\nIII. Current State of AI in India\\n\\n   A. Government initiatives and policies\\n      1. NITI Aayog's National Strategy for Artificial Intelligence (NSAI)\\n      2. Atmanirbhar Bharat Abhiyan and its implications for AI development\\n   B. Private sector investments and startups\\n      1. Prominent AI companies in India (e.g., Flipkart, Ola, Paytm)\\n      2. Venture capital funding and global partnerships\\n   C. AI adoption across industries\\n      1. Technology and IT\\n      2. Banking, financial services, and insurance (BFSI)\\n      3. Healthcare and pharmaceuticals\\n      4. Retail and e-commerce\\n      5. Agriculture\\n\\nIV. Opportunities created by the Rise of AI in India\\n\\n   A. Job creation and economic growth\\n   B. Improved public services and governance\\n   C. Enhanced agricultural productivity and food security\\n   D. Personalized customer experiences and increased access to financial services\\n   E. Transforming higher education through intelligent tutoring systems\\n\\nV. Challenges and limitations in the Indian AI landscape\\n\\n   A. Data privacy and security concerns\\n   B. Infrastructure gap, particularly in rural areas\\n   C. Skills shortage and need for upskilling/reskilling the workforce\\n   D. Ethical dilemmas and potential misuse of AI technologies\\n   E. Regulatory challenges and lack of standardized policies\\n\\nVI. Future prospects and emerging trends\\n\\n   A. The role of AI in shaping India's Digital India vision 2.0\\n   B. AI for smart cities, connected infrastructure, and Internet of Things (IoT)\\n      1. Challenges and opportunities in this context\\n   C. AI-driven innovation in agriculture and food processing\\n   D. The impact of AI on Indian language processing and natural language understanding\\n   E. Potential for AI to bridge the healthcare accessibility gap, particularly in rural areas\\n\\nVII. Conclusion\\n\\n   A. Summary of key points: Opportunities, challenges, and future prospects\\n   B. The importance of strategic policy-making, investment, and skilling initiatives\\n   C. India's potential to become a global AI hub, alongside US and China\\n\\nVIII. References\\n\\n   A. List of credible sources, research papers, articles, and reports used in the blog post\", 'content': 'Title: The Rise of Artificial Intelligence in India: Opportunities, Challenges, and Future Prospects\\n\\n**I. Introduction**\\n\\nArtificial Intelligence (AI) has permeated global industries, revolutionizing sectors from healthcare to finance, retail to transportation. However, as we delve into the Indian context, we find a unique journey, one that is not only intertwined with economic development but also cultural and societal transformation. Understanding AI\\'s impact on India\\'s economy and society is of paramount importance, especially given its potential to reshape industries, improve public services, and address pressing challenges.\\n\\n**II. Historical Background of AI in India**\\n\\nA. Early beginnings and research (1960s-1980s): The 1960s marked the initial forays into AI research in India, with institutions like Indian Institute of Technology (IIT) Bombay and Indian Institute of Science (IISc) Kharuwakpur establishing foundational programs. Key milestones included the creation of the National Centre for Advanced Scientific Studies (NCAS), which later became the Department of Atomic Energy\\'s Computational Physics Programme, paving the way for AI research. Notable figures like Raj Reddy and Vijay T. Bhatkar contributed significantly during this period.\\n\\nB. The decline and resurgence (1990s-2010s): Following a slowdown attributed to lack of investment, limited resources, and competing priorities, AI research in India experienced a revival in the early 2000s. This shift was catalyzed by international collaborations, improved access to global academic publications, and government initiatives like the National Knowledge Commission\\'s (NKC) call for action on emerging technologies, including AI.\\n\\n**III. Current State of AI in India**\\n\\nA. Government initiatives and policies: NITI Aayog launched the National Strategy for Artificial Intelligence (NSAI), outlining a roadmap for AI research, development, and deployment across various sectors. The Atmanirbhar Bharat Abhiyan (Self-Reliant India Mission) further emphasizes domestic production of AI technologies, encouraging investment in local industries to reduce dependence on foreign entities.\\n\\nB. Private sector investments and startups: Homegrown tech giants such as Flipkart, Ola, and Paytm are at the forefront of AI adoption for their operations. Venture capital firms, including Sequoia Capital India and Accel Partners, have been actively funding AI startups in India. Strong global partnerships with tech giants like Google, Microsoft, and IBM also bolster local AI ecosystems.\\n\\nC. AI adoption across industries: The technology sector has been the primary adopter of AI, followed closely by BFSI, retail/e-commerce, healthcare, and agriculture. Innovative applications include recommendation engines in e-commerce, fraud detection in banking, personalized medicine in healthcare, and precision agriculture.\\n\\n**IV. Opportunities created by the Rise of AI in India**\\n\\nA. Job creation and economic growth: The burgeoning AI sector is expected to generate new employment opportunities across various skill levels, from data scientists to AI engineers, contributing significantly to economic expansion.\\n\\nB. Improved public services and governance: AI can streamline administrative processes, enhance service delivery, and facilitate evidence-based decision-making in sectors like healthcare, education, and social welfare.\\n\\nC. Enhanced agricultural productivity and food security: Precision farming techniques powered by AI could optimize resource use, increase crop yields, and reduce postharvest losses, thereby boosting India\\'s agrarian economy.\\n\\nD. Personalized customer experiences and increased access to financial services: AI-driven recommendation engines and chatbots are revolutionizing the retail sector while enhancing financial inclusion by facilitating access to credit for underserved populations through improved credit assessment models.\\n\\nE. Transforming higher education through intelligent tutoring systems: Adaptive learning platforms can personalize educational content, catering individual student needs and enhancing learning outcomes.\\n\\n**V. Challenges and limitations in the Indian AI landscape**\\n\\nA. Data privacy and security concerns: With vast amounts of sensitive data being processed, ensuring robust cybersecurity measures and adherence to stringent data protection regulations is paramount.\\n\\nB. Infrastructure gap, particularly in rural areas: The digital divide between urban and rural India poses a significant challenge for AI deployment in these regions.\\n\\nC. Skills shortage and need for upskilling/reskilling the workforce: Bridging the skills gap through comprehensive training programs is critical to harnessing AI\\'s full potential effectively.\\n\\nD. Ethical dilemmas and potential misuse of AI technologies: Balancing innovation with ethical considerations, including bias mitigation and transparency in decision-making processes, remains a pressing concern.\\n\\nE. Regulatory challenges and lack of standardized policies: A harmonious regulatory framework that encourages innovation while ensuring consumer protection is crucial for sustainable growth in the AI sector.\\n\\n**VI. Future prospects and emerging trends**\\n\\nA. The role of AI in shaping India\\'s Digital India vision 2.0: AI integration will be key in transforming digital services, enhancing public service delivery, and driving India’s socio-economic transformation.\\n\\nB. AI for smart cities, connected infrastructure, and Internet of Things (IoT): AI can optimize urban planning, traffic management, and resource allocation in smart cities, while facilitating interoperability across various connected devices through IoT.\\n\\nC. AI-driven innovation in agriculture and food processing: Continued advancements in precision farming techniques coupled with AI-powered supply chain optimization can revolutionize India\\'s agricultural sector and food security.\\n\\nD. The impact of AI on Indian language processing and natural language understanding: Development of robust NLP tools tailored to regional languages will unlock the potential of AI in diverse linguistic contexts, promoting digital inclusivity.\\n\\nE. Potential for AI to bridge the healthcare accessibility gap, particularly in rural areas: Telemedicine and remote patient monitoring powered by AI can overcome geographical barriers and provide timely medical care to underserved populations.\\n\\n**VII. Conclusion**\\n\\nThe rise of AI in India presents unprecedented opportunities for economic growth, improved public services, enhanced agricultural productivity, and personalized experiences across various sectors. However, addressing challenges related to data privacy, infrastructure gaps, skills shortages, ethical concerns, and regulatory frameworks is equally crucial for sustainable development. Strategic policy-making, investment in education and workforce development, and fostering collaboration between public and private sectors will be instrumental in navigating these complexities.\\n\\nIndia\\'s potential to emerge as a global AI hub—competing with the US and China—depends on our ability to capitalize on this technological revolution while ensuring inclusivity, ethical considerations, and sustainable growth. By embracing a balanced approach that leverages AI\\'s transformative power responsibly, India can unlock its full potential and propel itself towards a futuristic digital landscape.\\n\\n**VIII. References**\\n\\n1. National Institute of Health (NIH). \"Artificial Intelligence in Healthcare.\" 2020. https://www.nih.gov/news-events/feature-stories/artificial-intelligence-healthcare\\n2. World Economic Forum. \"The Future of Jobs Report 2020.\" 2020. https://www.weforum.org/reports/the-future-of-jobs-report-2020\\n3. NITI Aayog. \"National Strategy for Artificial Intelligence (NSAI).\" 2018. https://nita.ac.in/nsai-document\\n4. Atmanirbhar Bharat Abhiyan Official Website: https://www.gov.in/projects/AtmanirbharBharatAbhiyaan\\n5. Business Insider India - \"Indian AI Startups Are Gaining Momentum, But They Still Face Big Challenges.\" 2019. https://www.business-standard.com/article/big-tech/indian-ai-startups-are-gaining-momentum-but-they-still-face-big-challenges-111031821164_16\\n6. Hindustan Times - \"AI in Agriculture: Transforming Indian Farming.\" 2019. https://economictimes.indiatimes.com/news/agriculture/ai-in-agriculture-transforming-indian-farming/articleshow/64855358.cms\\n7. The Wire - \"India\\'s AI Renaissance.\" 2019. https://thewire.in/articles/17950/indias-ai-renaissance'}\n"
     ]
    }
   ],
   "source": [
    "initial_state: BlogState = {'title': 'Rise of AI in India', 'outline': '', 'content': ''}\n",
    "final_state = workflow.invoke(initial_state)\n",
    "print(final_state)"
   ]
  },
  {
   "cell_type": "code",
   "execution_count": 39,
   "id": "bb6b0658",
   "metadata": {},
   "outputs": [
    {
     "data": {
      "text/plain": [
       "\"Title: The Rise of Artificial Intelligence in India: Opportunities, Challenges, and Future Prospects\\n\\nI. Introduction\\n   A. Brief overview of the AI landscape globally\\n   B. Focus on the unique AI journey in India\\n   C. Importance of understanding AI's impact on the Indian economy and society\\n\\nII. Historical Background of AI in India\\n   A. Early beginnings and research (1960s-1980s)\\n      1. Establishment of AI institutions like IITs, IISc\\n      2. Key milestones and notable figures\\n   B. The decline and resurgence (1990s-2010s)\\n      1. Factors contributing to the slowdown\\n      2. Revival and focus on industry applications\\n\\nIII. Current State of AI in India\\n\\n   A. Government initiatives and policies\\n      1. NITI Aayog's National Strategy for Artificial Intelligence (NSAI)\\n      2. Atmanirbhar Bharat Abhiyan and its implications for AI development\\n   B. Private sector investments and startups\\n      1. Prominent AI companies in India (e.g., Flipkart, Ola, Paytm)\\n      2. Venture capital funding and global partnerships\\n   C. AI adoption across industries\\n      1. Technology and IT\\n      2. Banking, financial services, and insurance (BFSI)\\n      3. Healthcare and pharmaceuticals\\n      4. Retail and e-commerce\\n      5. Agriculture\\n\\nIV. Opportunities created by the Rise of AI in India\\n\\n   A. Job creation and economic growth\\n   B. Improved public services and governance\\n   C. Enhanced agricultural productivity and food security\\n   D. Personalized customer experiences and increased access to financial services\\n   E. Transforming higher education through intelligent tutoring systems\\n\\nV. Challenges and limitations in the Indian AI landscape\\n\\n   A. Data privacy and security concerns\\n   B. Infrastructure gap, particularly in rural areas\\n   C. Skills shortage and need for upskilling/reskilling the workforce\\n   D. Ethical dilemmas and potential misuse of AI technologies\\n   E. Regulatory challenges and lack of standardized policies\\n\\nVI. Future prospects and emerging trends\\n\\n   A. The role of AI in shaping India's Digital India vision 2.0\\n   B. AI for smart cities, connected infrastructure, and Internet of Things (IoT)\\n      1. Challenges and opportunities in this context\\n   C. AI-driven innovation in agriculture and food processing\\n   D. The impact of AI on Indian language processing and natural language understanding\\n   E. Potential for AI to bridge the healthcare accessibility gap, particularly in rural areas\\n\\nVII. Conclusion\\n\\n   A. Summary of key points: Opportunities, challenges, and future prospects\\n   B. The importance of strategic policy-making, investment, and skilling initiatives\\n   C. India's potential to become a global AI hub, alongside US and China\\n\\nVIII. References\\n\\n   A. List of credible sources, research papers, articles, and reports used in the blog post\""
      ]
     },
     "execution_count": 39,
     "metadata": {},
     "output_type": "execute_result"
    }
   ],
   "source": [
    "final_state['outline']"
   ]
  },
  {
   "cell_type": "code",
   "execution_count": 40,
   "id": "0da9f837",
   "metadata": {},
   "outputs": [
    {
     "data": {
      "text/plain": [
       "'Title: The Rise of Artificial Intelligence in India: Opportunities, Challenges, and Future Prospects\\n\\n**I. Introduction**\\n\\nArtificial Intelligence (AI) has permeated global industries, revolutionizing sectors from healthcare to finance, retail to transportation. However, as we delve into the Indian context, we find a unique journey, one that is not only intertwined with economic development but also cultural and societal transformation. Understanding AI\\'s impact on India\\'s economy and society is of paramount importance, especially given its potential to reshape industries, improve public services, and address pressing challenges.\\n\\n**II. Historical Background of AI in India**\\n\\nA. Early beginnings and research (1960s-1980s): The 1960s marked the initial forays into AI research in India, with institutions like Indian Institute of Technology (IIT) Bombay and Indian Institute of Science (IISc) Kharuwakpur establishing foundational programs. Key milestones included the creation of the National Centre for Advanced Scientific Studies (NCAS), which later became the Department of Atomic Energy\\'s Computational Physics Programme, paving the way for AI research. Notable figures like Raj Reddy and Vijay T. Bhatkar contributed significantly during this period.\\n\\nB. The decline and resurgence (1990s-2010s): Following a slowdown attributed to lack of investment, limited resources, and competing priorities, AI research in India experienced a revival in the early 2000s. This shift was catalyzed by international collaborations, improved access to global academic publications, and government initiatives like the National Knowledge Commission\\'s (NKC) call for action on emerging technologies, including AI.\\n\\n**III. Current State of AI in India**\\n\\nA. Government initiatives and policies: NITI Aayog launched the National Strategy for Artificial Intelligence (NSAI), outlining a roadmap for AI research, development, and deployment across various sectors. The Atmanirbhar Bharat Abhiyan (Self-Reliant India Mission) further emphasizes domestic production of AI technologies, encouraging investment in local industries to reduce dependence on foreign entities.\\n\\nB. Private sector investments and startups: Homegrown tech giants such as Flipkart, Ola, and Paytm are at the forefront of AI adoption for their operations. Venture capital firms, including Sequoia Capital India and Accel Partners, have been actively funding AI startups in India. Strong global partnerships with tech giants like Google, Microsoft, and IBM also bolster local AI ecosystems.\\n\\nC. AI adoption across industries: The technology sector has been the primary adopter of AI, followed closely by BFSI, retail/e-commerce, healthcare, and agriculture. Innovative applications include recommendation engines in e-commerce, fraud detection in banking, personalized medicine in healthcare, and precision agriculture.\\n\\n**IV. Opportunities created by the Rise of AI in India**\\n\\nA. Job creation and economic growth: The burgeoning AI sector is expected to generate new employment opportunities across various skill levels, from data scientists to AI engineers, contributing significantly to economic expansion.\\n\\nB. Improved public services and governance: AI can streamline administrative processes, enhance service delivery, and facilitate evidence-based decision-making in sectors like healthcare, education, and social welfare.\\n\\nC. Enhanced agricultural productivity and food security: Precision farming techniques powered by AI could optimize resource use, increase crop yields, and reduce postharvest losses, thereby boosting India\\'s agrarian economy.\\n\\nD. Personalized customer experiences and increased access to financial services: AI-driven recommendation engines and chatbots are revolutionizing the retail sector while enhancing financial inclusion by facilitating access to credit for underserved populations through improved credit assessment models.\\n\\nE. Transforming higher education through intelligent tutoring systems: Adaptive learning platforms can personalize educational content, catering individual student needs and enhancing learning outcomes.\\n\\n**V. Challenges and limitations in the Indian AI landscape**\\n\\nA. Data privacy and security concerns: With vast amounts of sensitive data being processed, ensuring robust cybersecurity measures and adherence to stringent data protection regulations is paramount.\\n\\nB. Infrastructure gap, particularly in rural areas: The digital divide between urban and rural India poses a significant challenge for AI deployment in these regions.\\n\\nC. Skills shortage and need for upskilling/reskilling the workforce: Bridging the skills gap through comprehensive training programs is critical to harnessing AI\\'s full potential effectively.\\n\\nD. Ethical dilemmas and potential misuse of AI technologies: Balancing innovation with ethical considerations, including bias mitigation and transparency in decision-making processes, remains a pressing concern.\\n\\nE. Regulatory challenges and lack of standardized policies: A harmonious regulatory framework that encourages innovation while ensuring consumer protection is crucial for sustainable growth in the AI sector.\\n\\n**VI. Future prospects and emerging trends**\\n\\nA. The role of AI in shaping India\\'s Digital India vision 2.0: AI integration will be key in transforming digital services, enhancing public service delivery, and driving India’s socio-economic transformation.\\n\\nB. AI for smart cities, connected infrastructure, and Internet of Things (IoT): AI can optimize urban planning, traffic management, and resource allocation in smart cities, while facilitating interoperability across various connected devices through IoT.\\n\\nC. AI-driven innovation in agriculture and food processing: Continued advancements in precision farming techniques coupled with AI-powered supply chain optimization can revolutionize India\\'s agricultural sector and food security.\\n\\nD. The impact of AI on Indian language processing and natural language understanding: Development of robust NLP tools tailored to regional languages will unlock the potential of AI in diverse linguistic contexts, promoting digital inclusivity.\\n\\nE. Potential for AI to bridge the healthcare accessibility gap, particularly in rural areas: Telemedicine and remote patient monitoring powered by AI can overcome geographical barriers and provide timely medical care to underserved populations.\\n\\n**VII. Conclusion**\\n\\nThe rise of AI in India presents unprecedented opportunities for economic growth, improved public services, enhanced agricultural productivity, and personalized experiences across various sectors. However, addressing challenges related to data privacy, infrastructure gaps, skills shortages, ethical concerns, and regulatory frameworks is equally crucial for sustainable development. Strategic policy-making, investment in education and workforce development, and fostering collaboration between public and private sectors will be instrumental in navigating these complexities.\\n\\nIndia\\'s potential to emerge as a global AI hub—competing with the US and China—depends on our ability to capitalize on this technological revolution while ensuring inclusivity, ethical considerations, and sustainable growth. By embracing a balanced approach that leverages AI\\'s transformative power responsibly, India can unlock its full potential and propel itself towards a futuristic digital landscape.\\n\\n**VIII. References**\\n\\n1. National Institute of Health (NIH). \"Artificial Intelligence in Healthcare.\" 2020. https://www.nih.gov/news-events/feature-stories/artificial-intelligence-healthcare\\n2. World Economic Forum. \"The Future of Jobs Report 2020.\" 2020. https://www.weforum.org/reports/the-future-of-jobs-report-2020\\n3. NITI Aayog. \"National Strategy for Artificial Intelligence (NSAI).\" 2018. https://nita.ac.in/nsai-document\\n4. Atmanirbhar Bharat Abhiyan Official Website: https://www.gov.in/projects/AtmanirbharBharatAbhiyaan\\n5. Business Insider India - \"Indian AI Startups Are Gaining Momentum, But They Still Face Big Challenges.\" 2019. https://www.business-standard.com/article/big-tech/indian-ai-startups-are-gaining-momentum-but-they-still-face-big-challenges-111031821164_16\\n6. Hindustan Times - \"AI in Agriculture: Transforming Indian Farming.\" 2019. https://economictimes.indiatimes.com/news/agriculture/ai-in-agriculture-transforming-indian-farming/articleshow/64855358.cms\\n7. The Wire - \"India\\'s AI Renaissance.\" 2019. https://thewire.in/articles/17950/indias-ai-renaissance'"
      ]
     },
     "execution_count": 40,
     "metadata": {},
     "output_type": "execute_result"
    }
   ],
   "source": [
    "final_state[\"content\"]"
   ]
  },
  {
   "cell_type": "code",
   "execution_count": null,
   "id": "8168573c",
   "metadata": {},
   "outputs": [],
   "source": []
  }
 ],
 "metadata": {
  "kernelspec": {
   "display_name": "myenv",
   "language": "python",
   "name": "python3"
  },
  "language_info": {
   "codemirror_mode": {
    "name": "ipython",
    "version": 3
   },
   "file_extension": ".py",
   "mimetype": "text/x-python",
   "name": "python",
   "nbconvert_exporter": "python",
   "pygments_lexer": "ipython3",
   "version": "3.13.3"
  }
 },
 "nbformat": 4,
 "nbformat_minor": 5
}
