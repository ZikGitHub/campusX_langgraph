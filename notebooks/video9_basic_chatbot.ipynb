{
 "cells": [
  {
   "cell_type": "markdown",
   "id": "4194241d",
   "metadata": {},
   "source": [
    "## Basic Chatbot"
   ]
  },
  {
   "cell_type": "code",
   "execution_count": 23,
   "id": "4e09bde3",
   "metadata": {},
   "outputs": [],
   "source": [
    "from langgraph.graph import StateGraph, START, END\n",
    "from typing import TypedDict, Annotated, List\n",
    "from langchain_core.messages import BaseMessage, HumanMessage\n",
    "from langchain_ollama import ChatOllama\n",
    "from langgraph.checkpoint.memory import MemorySaver"
   ]
  },
  {
   "cell_type": "code",
   "execution_count": 24,
   "id": "362039a3",
   "metadata": {},
   "outputs": [],
   "source": [
    "from langgraph.graph.message import add_messages\n",
    "\n",
    "class ChatState(TypedDict):\n",
    "    messages: Annotated[List[BaseMessage], add_messages] # add messages same as operator.add"
   ]
  },
  {
   "cell_type": "code",
   "execution_count": 25,
   "id": "5ad0d1c9",
   "metadata": {},
   "outputs": [],
   "source": [
    "llm = ChatOllama(model='llama3.2:1b')"
   ]
  },
  {
   "cell_type": "code",
   "execution_count": 26,
   "id": "043afe10",
   "metadata": {},
   "outputs": [],
   "source": [
    "def chat_node(state: ChatState):\n",
    "\n",
    "    # take user query from state\n",
    "    messages = state['messages']\n",
    "\n",
    "    # send to llm\n",
    "    response = llm.invoke(messages)\n",
    "\n",
    "    # store response state\n",
    "    return {'messages': [response]}"
   ]
  },
  {
   "cell_type": "code",
   "execution_count": 27,
   "id": "5b0e798c",
   "metadata": {},
   "outputs": [],
   "source": [
    "checkpointer = MemorySaver()\n",
    "graph = StateGraph(ChatState)\n",
    "\n",
    "# add nodes\n",
    "graph.add_node('chat_node', chat_node)\n",
    "\n",
    "# add edges\n",
    "graph.add_edge(START, 'chat_node')\n",
    "graph.add_edge('chat_node', END)\n",
    "\n",
    "chatbot = graph.compile(checkpointer=checkpointer)"
   ]
  },
  {
   "cell_type": "code",
   "execution_count": 28,
   "id": "c3002ffe",
   "metadata": {},
   "outputs": [
    {
     "data": {
      "image/png": "[encoded data removed]",
      "text/plain": [
       "<langgraph.graph.state.CompiledStateGraph object at 0x000001BFEEBB8FC0>"
      ]
     },
     "execution_count": 28,
     "metadata": {},
     "output_type": "execute_result"
    }
   ],
   "source": [
    "chatbot"
   ]
  },
  {
   "cell_type": "code",
   "execution_count": 29,
   "id": "977a7b0b",
   "metadata": {},
   "outputs": [],
   "source": [
    "# initial_state = {\"messages\": [HumanMessage(content=\"What is the capital of india\")]}\n",
    "\n",
    "# chatbot.invoke(initial_state)[\"messages\"][-1].content"
   ]
  },
  {
   "cell_type": "code",
   "execution_count": 30,
   "id": "306f0614",
   "metadata": {},
   "outputs": [
    {
     "name": "stdout",
     "output_type": "stream",
     "text": [
      "Hi I am Nitish\n",
      "AI:  Hello Nitish. How can I assist you today?\n",
      "What is my name?\n",
      "AI:  I don't have any information about a person named Nitish. This conversation just started, and I'm not aware of any prior interaction or context. Can you please tell me your name?\n",
      "I just told you my name is Nitish.\n",
      "AI:  I made an incorrect assumption earlier. You are correct, you did tell me that your name is Nitish. Let's start fresh if you'd like to discuss something specific or ask a question on a particular topic. I'm here to help.\n",
      "What is my name?\n",
      "AI:  Your name is Nitish.\n",
      "again, what is my name?\n",
      "AI:  I've already answered that your name is Nitish. Is there something else I can help you with?\n",
      "you do not have any confusion now right?\n",
      "AI:  Yes, I've got it clear now. I made a mistake earlier when I said I had no knowledge of your name, and then later I confirmed that your name is Nitish. I'm confident in my response this time, so I'll just say that your name is indeed Nitish.\n",
      "what is opposite of my name?\n",
      "AI:  The opposite of \"Nitish\" would be a name that sounds similar or has the same ending sound but with a different first and last name convention. Some examples could be \"Sith\", \"Litsh\", or \"Tish\". However, please note that these names might not be commonly used or recognized in most cultures.\n",
      "exit\n"
     ]
    }
   ],
   "source": [
    "thread_id = '1'\n",
    "\n",
    "while True:\n",
    "    user_message = input(\"Type here ...\")\n",
    "    print(user_message)\n",
    "\n",
    "    if user_message == 'exit':\n",
    "        break\n",
    "    else:\n",
    "        config = {'configurable': {'thread_id': thread_id}}\n",
    "        response = chatbot.invoke({'messages': [HumanMessage(content=user_message)]}, config=config)\n",
    "        \n",
    "        print('AI: ', response['messages'][-1].content)\n"
   ]
  },
  {
   "cell_type": "code",
   "execution_count": 31,
   "id": "30122ee8",
   "metadata": {},
   "outputs": [
    {
     "data": {
      "text/plain": [
       "StateSnapshot(values={'messages': [HumanMessage(content='Hi I am Nitish', additional_kwargs={}, response_metadata={}, id='42d0bc73-45ac-4f28-ae4b-4dd0b9d15e92'), AIMessage(content='Hello Nitish. How can I assist you today?', additional_kwargs={}, response_metadata={'model': 'llama3.2:1b', 'created_at': '2025-09-09T12:55:15.2684524Z', 'done': True, 'done_reason': 'stop', 'total_duration': 2330735700, 'load_duration': 2066385700, 'prompt_eval_count': 30, 'prompt_eval_duration': 85103600, 'eval_count': 12, 'eval_duration': 178318300, 'model_name': 'llama3.2:1b'}, id='run--82433e67-b167-4607-ab15-49a3bcf8fbbc-0', usage_metadata={'input_tokens': 30, 'output_tokens': 12, 'total_tokens': 42}), HumanMessage(content='What is my name?', additional_kwargs={}, response_metadata={}, id='b88b450c-f22a-40a2-8303-57e664db128b'), AIMessage(content=\"I don't have any information about a person named Nitish. This conversation just started, and I'm not aware of any prior interaction or context. Can you please tell me your name?\", additional_kwargs={}, response_metadata={'model': 'llama3.2:1b', 'created_at': '2025-09-09T12:55:29.5109417Z', 'done': True, 'done_reason': 'stop', 'total_duration': 745786600, 'load_duration': 87028200, 'prompt_eval_count': 56, 'prompt_eval_duration': 35630100, 'eval_count': 39, 'eval_duration': 622312300, 'model_name': 'llama3.2:1b'}, id='run--977232d6-380f-44f2-aea3-5e4a1676e925-0', usage_metadata={'input_tokens': 56, 'output_tokens': 39, 'total_tokens': 95}), HumanMessage(content='I just told you my name is Nitish.', additional_kwargs={}, response_metadata={}, id='e06926d2-a0b2-436f-bd4c-bd84bc5d9898'), AIMessage(content=\"I made an incorrect assumption earlier. You are correct, you did tell me that your name is Nitish. Let's start fresh if you'd like to discuss something specific or ask a question on a particular topic. I'm here to help.\", additional_kwargs={}, response_metadata={'model': 'llama3.2:1b', 'created_at': '2025-09-09T12:56:01.5283659Z', 'done': True, 'done_reason': 'stop', 'total_duration': 889877700, 'load_duration': 87362000, 'prompt_eval_count': 114, 'prompt_eval_duration': 39244500, 'eval_count': 50, 'eval_duration': 761647800, 'model_name': 'llama3.2:1b'}, id='run--a432caac-14c8-4291-a2cd-64a3a17eee69-0', usage_metadata={'input_tokens': 114, 'output_tokens': 50, 'total_tokens': 164}), HumanMessage(content='What is my name?', additional_kwargs={}, response_metadata={}, id='ece3c61c-717e-43b7-b3d2-1df109a3548e'), AIMessage(content='Your name is Nitish.', additional_kwargs={}, response_metadata={'model': 'llama3.2:1b', 'created_at': '2025-09-09T12:56:09.3049951Z', 'done': True, 'done_reason': 'stop', 'total_duration': 283181600, 'load_duration': 134717800, 'prompt_eval_count': 178, 'prompt_eval_duration': 37406200, 'eval_count': 7, 'eval_duration': 107048300, 'model_name': 'llama3.2:1b'}, id='run--068dedab-02a2-451d-9dc9-ff2605cb5135-0', usage_metadata={'input_tokens': 178, 'output_tokens': 7, 'total_tokens': 185}), HumanMessage(content='again, what is my name?', additional_kwargs={}, response_metadata={}, id='68a43457-bdb8-47b0-b086-cb94552abcdd'), AIMessage(content=\"I've already answered that your name is Nitish. Is there something else I can help you with?\", additional_kwargs={}, response_metadata={'model': 'llama3.2:1b', 'created_at': '2025-09-09T12:56:18.8412118Z', 'done': True, 'done_reason': 'stop', 'total_duration': 548063500, 'load_duration': 168875600, 'prompt_eval_count': 201, 'prompt_eval_duration': 39401100, 'eval_count': 22, 'eval_duration': 336448100, 'model_name': 'llama3.2:1b'}, id='run--98a07c78-7649-491a-9fc9-0ee74b335a72-0', usage_metadata={'input_tokens': 201, 'output_tokens': 22, 'total_tokens': 223}), HumanMessage(content='you do not have any confusion now right?', additional_kwargs={}, response_metadata={}, id='c9f5faa5-06c3-42d5-94c4-d2596c0fa4e3'), AIMessage(content=\"Yes, I've got it clear now. I made a mistake earlier when I said I had no knowledge of your name, and then later I confirmed that your name is Nitish. I'm confident in my response this time, so I'll just say that your name is indeed Nitish.\", additional_kwargs={}, response_metadata={'model': 'llama3.2:1b', 'created_at': '2025-09-09T12:56:36.883003Z', 'done': True, 'done_reason': 'stop', 'total_duration': 1098877400, 'load_duration': 88672400, 'prompt_eval_count': 241, 'prompt_eval_duration': 44945800, 'eval_count': 60, 'eval_duration': 961017700, 'model_name': 'llama3.2:1b'}, id='run--0519e29d-1847-4cfe-b10f-e8ba8b183935-0', usage_metadata={'input_tokens': 241, 'output_tokens': 60, 'total_tokens': 301}), HumanMessage(content='what is opposite of my name?', additional_kwargs={}, response_metadata={}, id='21a80027-538f-49fe-ad2d-0a0080ddf661'), AIMessage(content='The opposite of \"Nitish\" would be a name that sounds similar or has the same ending sound but with a different first and last name convention. Some examples could be \"Sith\", \"Litsh\", or \"Tish\". However, please note that these names might not be commonly used or recognized in most cultures.', additional_kwargs={}, response_metadata={'model': 'llama3.2:1b', 'created_at': '2025-09-09T12:56:54.3952811Z', 'done': True, 'done_reason': 'stop', 'total_duration': 1229317400, 'load_duration': 84847000, 'prompt_eval_count': 317, 'prompt_eval_duration': 32895000, 'eval_count': 66, 'eval_duration': 1105943400, 'model_name': 'llama3.2:1b'}, id='run--8266ddb9-9aae-48ba-b0e0-d66066153bec-0', usage_metadata={'input_tokens': 317, 'output_tokens': 66, 'total_tokens': 383})]}, next=(), config={'configurable': {'thread_id': '1', 'checkpoint_ns': '', 'checkpoint_id': '1f08d7c7-604a-6375-8013-2e5938ec086a'}}, metadata={'source': 'loop', 'step': 19, 'parents': {}}, created_at='2025-09-09T12:56:54.396185+00:00', parent_config={'configurable': {'thread_id': '1', 'checkpoint_ns': '', 'checkpoint_id': '1f08d7c7-5488-6f3f-8012-885bc5e54671'}}, tasks=(), interrupts=())"
      ]
     },
     "execution_count": 31,
     "metadata": {},
     "output_type": "execute_result"
    }
   ],
   "source": [
    "chatbot.get_state(config=config)"
   ]
  },
  {
   "cell_type": "code",
   "execution_count": null,
   "id": "cdd7f22d",
   "metadata": {},
   "outputs": [],
   "source": []
  },
  {
   "cell_type": "code",
   "execution_count": null,
   "id": "7d9563e2",
   "metadata": {},
   "outputs": [],
   "source": []
  },
  {
   "cell_type": "code",
   "execution_count": null,
   "id": "a3273a28",
   "metadata": {},
   "outputs": [],
   "source": []
  },
  {
   "cell_type": "code",
   "execution_count": null,
   "id": "dff6d407",
   "metadata": {},
   "outputs": [],
   "source": []
  }
 ],
 "metadata": {
  "kernelspec": {
   "display_name": ".venv",
   "language": "python",
   "name": "python3"
  },
  "language_info": {
   "codemirror_mode": {
    "name": "ipython",
    "version": 3
   },
   "file_extension": ".py",
   "mimetype": "text/x-python",
   "name": "python",
   "nbconvert_exporter": "python",
   "pygments_lexer": "ipython3",
   "version": "3.13.7"
  }
 },
 "nbformat": 4,
 "nbformat_minor": 5
}
