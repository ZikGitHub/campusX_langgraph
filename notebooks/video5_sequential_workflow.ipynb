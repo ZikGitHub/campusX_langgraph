{
 "cells": [
  {
   "cell_type": "markdown",
   "id": "0b741478",
   "metadata": {},
   "source": [
    "## Simple Workflow"
   ]
  },
  {
   "cell_type": "code",
   "execution_count": 1,
   "id": "09e038fc",
   "metadata": {},
   "outputs": [],
   "source": [
    "from langgraph.graph import StateGraph\n",
    "from langgraph.graph import START, END"
   ]
  },
  {
   "cell_type": "code",
   "execution_count": 2,
   "id": "66b9286a",
   "metadata": {},
   "outputs": [],
   "source": [
    "from typing import TypedDict\n",
    "\n",
    "# define state\n",
    "class BMIState(TypedDict):\n",
    "    weight_kg: float\n",
    "    height_m: float\n",
    "    bmi: float\n",
    "    category: str"
   ]
  },
  {
   "cell_type": "code",
   "execution_count": 3,
   "id": "6a00df61",
   "metadata": {},
   "outputs": [],
   "source": [
    "def calculate_bmi(state: BMIState) -> BMIState:\n",
    "    \"\"\"calculates state\"\"\"\n",
    "\n",
    "    weight = state[\"weight_kg\"]\n",
    "    height = state[\"height_m\"]\n",
    "\n",
    "    bmi = weight / (height**2)\n",
    "    state[\"bmi\"] = round(bmi, 2)\n",
    "\n",
    "    return state"
   ]
  },
  {
   "cell_type": "code",
   "execution_count": 4,
   "id": "e2ae2589",
   "metadata": {},
   "outputs": [],
   "source": [
    "def bmi_category(state: BMIState) -> BMIState:\n",
    "    \"\"\"labels bmi category\"\"\"\n",
    "\n",
    "    if state[\"bmi\"] > 10:\n",
    "        state[\"category\"] = \"Unhealthy\"\n",
    "\n",
    "    elif state[\"bmi\"] < 5:\n",
    "        state[\"category\"] = \"Unhealty\"\n",
    "\n",
    "    else:\n",
    "        state[\"category\"] = \"healthy\"\n",
    "\n",
    "    return state"
   ]
  },
  {
   "cell_type": "code",
   "execution_count": 5,
   "id": "6dac9204",
   "metadata": {},
   "outputs": [],
   "source": [
    "# define graph\n",
    "graph = StateGraph(BMIState)\n",
    "\n",
    "# add node\n",
    "graph.add_node('calculate_bmi', calculate_bmi)\n",
    "graph.add_node(\"bmi_category\", bmi_category)\n",
    "\n",
    "# add edges\n",
    "graph.add_edge(START, 'calculate_bmi')\n",
    "graph.add_edge(\"calculate_bmi\", \"bmi_category\")\n",
    "graph.add_edge(\"bmi_category\", END)\n",
    "\n",
    "# compile graph\n",
    "workflow = graph.compile()"
   ]
  },
  {
   "cell_type": "code",
   "execution_count": 6,
   "id": "31461546",
   "metadata": {},
   "outputs": [
    {
     "name": "stdout",
     "output_type": "stream",
     "text": [
      "{'weight_kg': 80, 'height_m': 1.6, 'bmi': 31.25, 'category': 'Unhealthy'}\n"
     ]
    }
   ],
   "source": [
    "# execute graph\n",
    "input_state: BMIState = {\"weight_kg\": 80, \"height_m\": 1.6}  # type: ignore\n",
    "output_state = workflow.invoke(input_state)\n",
    "print(output_state)"
   ]
  },
  {
   "cell_type": "code",
   "execution_count": 7,
   "id": "f1263b3f",
   "metadata": {},
   "outputs": [
    {
     "data": {
      "image/png": "[encoded data removed]",
      "text/plain": [
       "<IPython.core.display.Image object>"
      ]
     },
     "execution_count": 7,
     "metadata": {},
     "output_type": "execute_result"
    }
   ],
   "source": [
    "from IPython.display import Image\n",
    "Image(workflow.get_graph().draw_mermaid_png())"
   ]
  },
  {
   "cell_type": "markdown",
   "id": "a6c45b6e",
   "metadata": {},
   "source": [
    "## Simple LLM workflow"
   ]
  },
  {
   "cell_type": "code",
   "execution_count": 1,
   "id": "fb8988ff",
   "metadata": {},
   "outputs": [],
   "source": [
    "from langgraph.graph import StateGraph, START, END\n",
    "from langchain_ollama import ChatOllama\n",
    "from typing import TypedDict"
   ]
  },
  {
   "cell_type": "code",
   "execution_count": 2,
   "id": "3ab0eda1",
   "metadata": {},
   "outputs": [
    {
     "data": {
      "text/plain": [
       "AIMessage(content=\"I'm doing well, thanks for asking. I'm a large language model, so I don't have emotions or feelings like humans do, but I'm always happy to help and assist with any questions or topics you'd like to discuss. How about you? How's your day going?\", additional_kwargs={}, response_metadata={'model': 'llama3.2:1b', 'created_at': '2025-08-04T17:11:26.482094Z', 'done': True, 'done_reason': 'stop', 'total_duration': 1033783900, 'load_duration': 44108900, 'prompt_eval_count': 29, 'prompt_eval_duration': 38869700, 'eval_count': 59, 'eval_duration': 949616000, 'model_name': 'llama3.2:1b'}, id='run--9207bf04-8685-4f03-9343-fd9f0719fed1-0', usage_metadata={'input_tokens': 29, 'output_tokens': 59, 'total_tokens': 88})"
      ]
     },
     "execution_count": 2,
     "metadata": {},
     "output_type": "execute_result"
    }
   ],
   "source": [
    "model = ChatOllama(model=\"llama3.2:1b\")\n",
    "model.invoke(\"How are you?\")"
   ]
  },
  {
   "cell_type": "code",
   "execution_count": 3,
   "id": "0ac32467",
   "metadata": {},
   "outputs": [],
   "source": [
    "class LLMState(TypedDict):\n",
    "    question: str\n",
    "    answer: str"
   ]
  },
  {
   "cell_type": "code",
   "execution_count": 4,
   "id": "f271ba94",
   "metadata": {},
   "outputs": [],
   "source": [
    "def llm_qa(state: LLMState)-> LLMState:\n",
    "    question = state[\"question\"]\n",
    "\n",
    "    prompt = f\"Answer the following {question}\"\n",
    "\n",
    "    answer = str(model.invoke(prompt).content)\n",
    "\n",
    "    state['answer'] = answer\n",
    "\n",
    "    return state"
   ]
  },
  {
   "cell_type": "code",
   "execution_count": 5,
   "id": "a0c021e6",
   "metadata": {},
   "outputs": [],
   "source": [
    "graph = StateGraph(LLMState)\n",
    "\n",
    "graph.add_node('llm_qa', llm_qa)\n",
    "\n",
    "graph.add_edge(START, 'llm_qa')\n",
    "graph.add_edge('llm_qa', END)\n",
    "\n",
    "\n",
    "workflow = graph.compile()"
   ]
  },
  {
   "cell_type": "code",
   "execution_count": 6,
   "id": "b183f2be",
   "metadata": {},
   "outputs": [
    {
     "data": {
      "image/png": "[encoded data removed]",
      "text/plain": [
       "<IPython.core.display.Image object>"
      ]
     },
     "execution_count": 6,
     "metadata": {},
     "output_type": "execute_result"
    }
   ],
   "source": [
    "from IPython.display import Image\n",
    "Image(workflow.get_graph().draw_mermaid_png())\n"
   ]
  },
  {
   "cell_type": "code",
   "execution_count": 7,
   "id": "05910906",
   "metadata": {},
   "outputs": [],
   "source": [
    "# execute\n",
    "initial_state: LLMState = {'question': 'How far is moon from earth?', 'answer': ''}\n",
    "\n",
    "output_state = workflow.invoke(initial_state)"
   ]
  },
  {
   "cell_type": "code",
   "execution_count": 8,
   "id": "063bcb2d",
   "metadata": {},
   "outputs": [
    {
     "data": {
      "text/plain": [
       "\"The average distance from Earth to the Moon is approximately 384,400 kilometers (238,900 miles). This distance is constantly changing due to the elliptical shape of Earth's orbit around the Sun. At its closest point, called perigee, the distance is about 363,300 kilometers (225,000 miles), and at its farthest point, called apogee, the distance is about 405,500 kilometers (252,000 miles).\""
      ]
     },
     "execution_count": 8,
     "metadata": {},
     "output_type": "execute_result"
    }
   ],
   "source": [
    "output_state['answer']"
   ]
  },
  {
   "cell_type": "markdown",
   "id": "1b3e7faa",
   "metadata": {},
   "source": [
    "## Prompt Chaining"
   ]
  },
  {
   "cell_type": "code",
   "execution_count": 9,
   "id": "0eb0ebd0",
   "metadata": {},
   "outputs": [],
   "source": [
    "from langgraph.graph import StateGraph, START, END"
   ]
  },
  {
   "cell_type": "code",
   "execution_count": 10,
   "id": "4475fb04",
   "metadata": {},
   "outputs": [],
   "source": [
    "from typing import TypedDict\n",
    "\n",
    "# create a state schema\n",
    "class BlogState(TypedDict):\n",
    "    title: str\n",
    "    outline: str\n",
    "    content: str"
   ]
  },
  {
   "cell_type": "code",
   "execution_count": 11,
   "id": "d01fa53e",
   "metadata": {},
   "outputs": [],
   "source": [
    "from langchain_ollama import ChatOllama\n",
    "\n",
    "# initiate a model\n",
    "llm = ChatOllama(model=\"llama3.2:1b\")"
   ]
  },
  {
   "cell_type": "code",
   "execution_count": 12,
   "id": "a0577a47",
   "metadata": {},
   "outputs": [
    {
     "data": {
      "text/plain": [
       "AIMessage(content=\"I'm sorry for any confusion, but I don't have real-time data or personal information about individuals. Mobile numbers can vary greatly and are typically private. If you're asking about your own mobile number, I wouldn't be able to provide it. Please ensure you handle such sensitive information securely.\", additional_kwargs={}, response_metadata={'model': 'granite3.3:2b', 'created_at': '2025-08-04T17:11:56.3096486Z', 'done': True, 'done_reason': 'stop', 'total_duration': 13891526800, 'load_duration': 12095111000, 'prompt_eval_count': 48, 'prompt_eval_duration': 220904500, 'eval_count': 62, 'eval_duration': 1562933200, 'model_name': 'granite3.3:2b'}, id='run--3e03bd76-3d13-47a4-826f-030398f61988-0', usage_metadata={'input_tokens': 48, 'output_tokens': 62, 'total_tokens': 110})"
      ]
     },
     "execution_count": 12,
     "metadata": {},
     "output_type": "execute_result"
    }
   ],
   "source": [
    "from langchain_ollama import ChatOllama\n",
    "\n",
    "# initiate a model\n",
    "model = ChatOllama(model=\"granite3.3:2b\")\n",
    "model.invoke(\"What is mobile number?\")"
   ]
  },
  {
   "cell_type": "code",
   "execution_count": 13,
   "id": "08061269",
   "metadata": {},
   "outputs": [],
   "source": [
    "def create_outline(state: BlogState) -> BlogState:\n",
    "\n",
    "    title = state['title']\n",
    "    prompt = f\"Generate a detailed outline for a blog on the topic = {title}\"\n",
    "    outline = model.invoke(prompt).content\n",
    "    state['outline'] = str(outline)\n",
    "    return state\n"
   ]
  },
  {
   "cell_type": "code",
   "execution_count": 14,
   "id": "ddba0743",
   "metadata": {},
   "outputs": [],
   "source": [
    "def create_blog(state: BlogState) -> BlogState:\n",
    "    title = state['title']\n",
    "    outline = state['outline']\n",
    "    prompt = f\"Write a detailed blog on the title = {title} using the following outline: \\n {outline}\"\n",
    "    content = model.invoke(prompt).content\n",
    "    state['content'] = str(content)\n",
    "    return state"
   ]
  },
  {
   "cell_type": "code",
   "execution_count": 15,
   "id": "16d7cf85",
   "metadata": {},
   "outputs": [],
   "source": [
    "graph = StateGraph(BlogState)\n",
    "\n",
    "# nodes\n",
    "graph.add_node('create_outline', create_outline)\n",
    "graph.add_node('create_blog', create_blog)\n",
    "\n",
    "# edges\n",
    "graph.add_edge(START, 'create_outline')\n",
    "graph.add_edge('create_outline','create_blog')\n",
    "graph.add_edge('create_blog', END)\n",
    "\n",
    "\n",
    "# compile\n",
    "workflow = graph.compile()"
   ]
  },
  {
   "cell_type": "code",
   "execution_count": 16,
   "id": "f7f8f958",
   "metadata": {},
   "outputs": [
    {
     "name": "stdout",
     "output_type": "stream",
     "text": [
      "{'title': 'Rise of AI in India', 'outline': \"Title: Rise of Artificial Intelligence (AI) in India: Transforming Industries and Shaping the Future\\n\\nI. Introduction\\n   A. Brief overview of AI and its significance in today's world\\n   B. The relevance of exploring AI's rise in India\\n\\nII. Historical Background\\n   A. Early developments in AI research in India\\n      1. Institutions like the Indian Institute of Science, Bombay\\n     II. Evolution of AI in India\\n   A. Post-liberalization era (1991) and government initiatives\\n\\nIII. Current State of AI in India\\n   A. Government's role and policies supporting AI growth\\n      1. NITI Aayog's National Strategy for Artificial Intelligence\\n      2. Make in India, Digital India initiatives\\n   B. Key industries leveraging AI in India\\n      1. Technology and IT sector\\n      2. Banking and Financial Services\\n      3. Healthcare and Pharmaceuticals\\n      4. Manufacturing and Automobiles\\n      5. Agriculture (Smart Farming)\\n\\nIV. AI Startups and Investments in India\\n   A. Domestic AI startups making a mark globally\\n      1. Niki.ai, Ola, Flipkart, Paytm, Lenskart\\n   B. Venture capital and funding for AI startups\\n   C. Impact of foreign investments in AI sector\\n\\nV. Skills Gap and Talent Development\\n   A. Demand for skilled AI professionals\\n      1. Courses and certifications offered by Indian institutions\\n      2. Collaboration between industry and academia\\n   B. Government initiatives to bridge the skills gap\\n      1. NITI Aayog's National Programme on AI\\n      2. Industry-academia partnerships\\n\\nVI. Challenges and Opportunities for AI in India\\n   A. Data privacy concerns and regulatory challenges\\n   B. Need for robust infrastructure and internet connectivity\\n      1. Jio's impact on data availability\\n   C. Potential of AI to address socio-economic issues\\n      1. Leveraging AI for rural development, healthcare accessibility, and education quality enhancement\\n\\nVII. Future Trends in AI Adoption in India\\n   A. Emerging sectors likely to adopt AI\\n      1. E-commerce\\n      2. Smart Cities and IoT\\n      3. Cybersecurity and Fraud Detection\\n   B. The role of AI in shaping the national economy and global competitiveness\\n\\nVIII. Case Studies: Success stories and real-world applications of AI in India\\n   A. Personalized recommendations by e-commerce giants\\n   B. Healthcare advancements using AI for diagnostics and drug discovery\\n   C. Smart city initiatives leveraging IoT and AI for efficient urban management\\n\\nIX. Conclusion\\n   A. Recap of the rise of AI in India\\n   B. The potential impact on India's economy, society, and future generations\\n\\nX. Call to Action\\n   A. Encourage readers to explore AI career opportunities or learn more about the subject\\n   B. Suggest resources for further reading on AI in India\", 'content': \"# Rise of Artificial Intelligence (AI) in India: Transforming Industries and Shaping the Future\\n\\n## I. Introduction\\n\\nArtificial Intelligence (AI), a branch of computer science that aims to create intelligent machines capable of performing tasks without human intervention, has permeated various aspects of our lives. Its significance in today's world is unparalleled, revolutionizing industries and shaping the future. This blog delves into the remarkable journey of AI's rise in India, exploring its historical development, current state, challenges, opportunities, and future trends.\\n\\n## II. Historical Background\\n\\n### A. Early Developments in AI Research in India\\n\\nThe foundation for AI research in India can be traced back to the early 20th century with pioneering work by mathematicians like Srinivasa Ramanujan and C.V. Raman. However, formalized AI research began gaining momentum post-World War II with contributions from institutions such as the Indian Institute of Science (IISc), Bangalore.\\n\\n### B. Evolution of AI in India\\n\\nThe post-liberalization era of 1991 marked a pivotal shift, propelling India into an economic growth trajectory that supported technological advancements, including AI. Government initiatives such as the National Mission on Science and Technology (NMST) and later NITI Aayog under the Ministry of Electronics & Information & Technology laid the groundwork for fostering AI development in India.\\n\\n## III. Current State of AI in India\\n\\n#### A. Government's Role and Policies Supporting AI Growth\\n\\nNITI Aayog's National Strategy for Artificial Intelligence (NSAI) outlined a comprehensive roadmap for the responsible and strategic deployment of AI across various sectors, emphasizing its role in enhancing productivity and sustainable growth. The 'Make in India' and 'Digital India' initiatives have further promoted local AI development by encouraging domestic manufacturing and digital transformation.\\n\\n#### B. Key Industries Leveraging AI in India\\n\\n1. **Technology and IT sector**: Driving the growth with innovative solutions, data analytics, and automation.\\n2. **Banking and Financial Services**: Enhancing customer experience through personalized services, fraud detection, and risk management using AI algorithms.\\n3. **Healthcare and Pharmaceuticals**: Transforming diagnostics, drug discovery, and patient care with AI-powered predictive analytics and machine learning models.\\n4. **Manufacturing and Automobiles**: Implementing smart factories, automating production processes, and enhancing supply chain management through AI integration.\\n5. **Agriculture (Smart Farming)**: Enabling precision farming with IoT sensors and AI for crop monitoring, yield prediction, and resource optimization.\\n\\n## IV. AI Startups and Investments in India\\n\\n#### A. Domestic AI Startups Making a Mark Globally\\n\\nIndian startups like Niki.ai (chatbot), Ola (mobility solutions utilizing AI), Flipkart (e-commerce, recommendation systems), Paytm (financial services, AI-driven fraud detection), and Lenskart (eyewear, computer vision for product recommendations) have emerged as global leaders in their respective domains.\\n\\n#### B. Venture Capital and Funding for AI Startups\\n\\nVenture capital firms like Sequoia India, Accel Partners, and Blume Ventures have increasingly invested in AI startups, recognizing the immense growth potential of this sector. Foreign investments are also playing a critical role, with global players and international funds diversifying their portfolio by focusing on AI-driven solutions from India.\\n\\n## V. Skills Gap and Talent Development\\n\\n#### A. Demand for Skilled AI Professionals\\n\\nThe surge in AI adoption has heightened the demand for skilled professionals with expertise in data science, machine learning, and deep learning. Indian institutions have responded by introducing specialized courses and certifications such as Data Science Engineer (DSE) by IIIT-Hyderabad and Machine Learning by IIIT-B.\\n\\n#### B. Government Initiatives to Bridge the Skills Gap\\n\\nNITI Aayog's National Programme on AI emphasizes bridging the skills gap through collaborations between industry, academia, and government bodies. This initiative encourages research partnerships, curriculum development, and training programs focused on nurturing a robust AI talent pool.\\n\\n## VI. Challenges and Opportunities for AI in India\\n\\n#### A. Data Privacy Concerns and Regulatory Challenges\\n\\nWith the rise of AI, issues related to data privacy and security have become paramount, necessitating stringent regulations like the Personal Data Protection Bill.\\n\\n#### B. Need for Robust Infrastructure and Internet Connectivity\\n\\nReliable internet connectivity is crucial for leveraging AI's full potential. Jio’s expansion in providing affordable data services has significantly improved internet penetration, laying a foundation for wider AI adoption across sectors.\\n\\n#### C. Potential of AI to Address Socio-Economic Issues\\n\\nAI can play a transformative role in addressing socio-economic challenges by enhancing healthcare accessibility through telemedicine, improving education quality via personalized learning platforms, and fostering rural development through precision agriculture.\\n\\n## VII. Future Trends in AI Adoption in India\\n\\n#### A. Emerging Sectors Likely to Adopt AI\\n\\n1. **E-commerce**: Continued use of AI for personalized recommendations, inventory management, and dynamic pricing.\\n2. **Smart Cities and IoT**: Integration of AI with Internet of Things (IoT) technologies for efficient urban management, waste management, and public safety.\\n3. **Cybersecurity and Fraud Detection**: Leveraging AI to strengthen cybersecurity measures, detect fraudulent activities in real-time, and ensure data integrity.\\n\\n#### B. Role of AI in Shaping the National Economy and Global Competitiveness\\n\\nAI's adoption is expected to drive economic growth by enhancing productivity across industries, creating new job opportunities, and propelling India towards a knowledge-based economy, thus boosting its global competitiveness.\\n\\n## VIII. Case Studies: Success Stories and Real-World Applications of AI in India\\n\\n#### A. Personalized Recommendations by E-commerce Giants\\n\\nPlatforms like Amazon and Flipkart utilize sophisticated algorithms to offer personalized product recommendations, significantly enhancing user experience and driving sales.\\n\\n#### B. Healthcare Advancements Using AI for Diagnostics and Drug Discovery\\n\\nAI has been instrumental in revolutionizing healthcare through AI-powered diagnostic tools like Google's DeepMind Health, aiding in early detection of diseases such as cancer, and accelerating drug discovery processes by analyzing vast biological datasets.\\n\\n#### C. Smart City Initiatives Leveraging IoT and AI for Efficient Urban Management\\n\\nSmart cities like Bengaluru are employing AI to optimize traffic flow, manage waste efficiently, and enhance public safety through real-time surveillance systems.\\n\\n## IX. Conclusion\\n\\nThe rise of AI in India is a testament to the nation's transformative journey towards technological advancement. From humble beginnings to its current strategic positioning as a global AI hub, AI has the potential to revolutionize industries, create employment opportunities, and address socio-economic challenges.\\n\\nThe future holds immense promise with emerging sectors adopting AI at unprecedented scales, promising a paradigm shift in India's economic landscape and global competitiveness. However, realizing this potential requires continuous investment in skills development, robust infrastructure, and adherence to ethical AI practices, ensuring inclusivity and addressing privacy concerns.\\n\\n## X. Call to Action\\n\\nFor those intrigued by the world of AI or seeking to explore career opportunities within this dynamic field, India presents a fertile ground for innovation and growth. Resources such as research papers from institutions like IISc, Delhi Technological University (DTU), and IITs provide in-depth insights into AI's current state and future trends. Furthermore, engaging with industry events like the annual AI Summit India and attending webinars hosted by platforms like TIE (The Economic Times) can offer valuable exposure to the latest AI developments and networking opportunities.\\n\\nEmbracing this technological revolution will not only enrich your professional journey but also contribute to shaping a future-ready India where AI plays a pivotal role in driving economic prosperity and societal well-being.\"}\n"
     ]
    }
   ],
   "source": [
    "initial_state: BlogState = {'title': 'Rise of AI in India', 'outline': '', 'content': ''}\n",
    "final_state = workflow.invoke(initial_state)\n",
    "print(final_state)"
   ]
  },
  {
   "cell_type": "code",
   "execution_count": 17,
   "id": "bb6b0658",
   "metadata": {},
   "outputs": [
    {
     "data": {
      "text/plain": [
       "\"Title: Rise of Artificial Intelligence (AI) in India: Transforming Industries and Shaping the Future\\n\\nI. Introduction\\n   A. Brief overview of AI and its significance in today's world\\n   B. The relevance of exploring AI's rise in India\\n\\nII. Historical Background\\n   A. Early developments in AI research in India\\n      1. Institutions like the Indian Institute of Science, Bombay\\n     II. Evolution of AI in India\\n   A. Post-liberalization era (1991) and government initiatives\\n\\nIII. Current State of AI in India\\n   A. Government's role and policies supporting AI growth\\n      1. NITI Aayog's National Strategy for Artificial Intelligence\\n      2. Make in India, Digital India initiatives\\n   B. Key industries leveraging AI in India\\n      1. Technology and IT sector\\n      2. Banking and Financial Services\\n      3. Healthcare and Pharmaceuticals\\n      4. Manufacturing and Automobiles\\n      5. Agriculture (Smart Farming)\\n\\nIV. AI Startups and Investments in India\\n   A. Domestic AI startups making a mark globally\\n      1. Niki.ai, Ola, Flipkart, Paytm, Lenskart\\n   B. Venture capital and funding for AI startups\\n   C. Impact of foreign investments in AI sector\\n\\nV. Skills Gap and Talent Development\\n   A. Demand for skilled AI professionals\\n      1. Courses and certifications offered by Indian institutions\\n      2. Collaboration between industry and academia\\n   B. Government initiatives to bridge the skills gap\\n      1. NITI Aayog's National Programme on AI\\n      2. Industry-academia partnerships\\n\\nVI. Challenges and Opportunities for AI in India\\n   A. Data privacy concerns and regulatory challenges\\n   B. Need for robust infrastructure and internet connectivity\\n      1. Jio's impact on data availability\\n   C. Potential of AI to address socio-economic issues\\n      1. Leveraging AI for rural development, healthcare accessibility, and education quality enhancement\\n\\nVII. Future Trends in AI Adoption in India\\n   A. Emerging sectors likely to adopt AI\\n      1. E-commerce\\n      2. Smart Cities and IoT\\n      3. Cybersecurity and Fraud Detection\\n   B. The role of AI in shaping the national economy and global competitiveness\\n\\nVIII. Case Studies: Success stories and real-world applications of AI in India\\n   A. Personalized recommendations by e-commerce giants\\n   B. Healthcare advancements using AI for diagnostics and drug discovery\\n   C. Smart city initiatives leveraging IoT and AI for efficient urban management\\n\\nIX. Conclusion\\n   A. Recap of the rise of AI in India\\n   B. The potential impact on India's economy, society, and future generations\\n\\nX. Call to Action\\n   A. Encourage readers to explore AI career opportunities or learn more about the subject\\n   B. Suggest resources for further reading on AI in India\""
      ]
     },
     "execution_count": 17,
     "metadata": {},
     "output_type": "execute_result"
    }
   ],
   "source": [
    "final_state['outline']"
   ]
  },
  {
   "cell_type": "code",
   "execution_count": 18,
   "id": "0da9f837",
   "metadata": {},
   "outputs": [
    {
     "data": {
      "text/plain": [
       "\"# Rise of Artificial Intelligence (AI) in India: Transforming Industries and Shaping the Future\\n\\n## I. Introduction\\n\\nArtificial Intelligence (AI), a branch of computer science that aims to create intelligent machines capable of performing tasks without human intervention, has permeated various aspects of our lives. Its significance in today's world is unparalleled, revolutionizing industries and shaping the future. This blog delves into the remarkable journey of AI's rise in India, exploring its historical development, current state, challenges, opportunities, and future trends.\\n\\n## II. Historical Background\\n\\n### A. Early Developments in AI Research in India\\n\\nThe foundation for AI research in India can be traced back to the early 20th century with pioneering work by mathematicians like Srinivasa Ramanujan and C.V. Raman. However, formalized AI research began gaining momentum post-World War II with contributions from institutions such as the Indian Institute of Science (IISc), Bangalore.\\n\\n### B. Evolution of AI in India\\n\\nThe post-liberalization era of 1991 marked a pivotal shift, propelling India into an economic growth trajectory that supported technological advancements, including AI. Government initiatives such as the National Mission on Science and Technology (NMST) and later NITI Aayog under the Ministry of Electronics & Information & Technology laid the groundwork for fostering AI development in India.\\n\\n## III. Current State of AI in India\\n\\n#### A. Government's Role and Policies Supporting AI Growth\\n\\nNITI Aayog's National Strategy for Artificial Intelligence (NSAI) outlined a comprehensive roadmap for the responsible and strategic deployment of AI across various sectors, emphasizing its role in enhancing productivity and sustainable growth. The 'Make in India' and 'Digital India' initiatives have further promoted local AI development by encouraging domestic manufacturing and digital transformation.\\n\\n#### B. Key Industries Leveraging AI in India\\n\\n1. **Technology and IT sector**: Driving the growth with innovative solutions, data analytics, and automation.\\n2. **Banking and Financial Services**: Enhancing customer experience through personalized services, fraud detection, and risk management using AI algorithms.\\n3. **Healthcare and Pharmaceuticals**: Transforming diagnostics, drug discovery, and patient care with AI-powered predictive analytics and machine learning models.\\n4. **Manufacturing and Automobiles**: Implementing smart factories, automating production processes, and enhancing supply chain management through AI integration.\\n5. **Agriculture (Smart Farming)**: Enabling precision farming with IoT sensors and AI for crop monitoring, yield prediction, and resource optimization.\\n\\n## IV. AI Startups and Investments in India\\n\\n#### A. Domestic AI Startups Making a Mark Globally\\n\\nIndian startups like Niki.ai (chatbot), Ola (mobility solutions utilizing AI), Flipkart (e-commerce, recommendation systems), Paytm (financial services, AI-driven fraud detection), and Lenskart (eyewear, computer vision for product recommendations) have emerged as global leaders in their respective domains.\\n\\n#### B. Venture Capital and Funding for AI Startups\\n\\nVenture capital firms like Sequoia India, Accel Partners, and Blume Ventures have increasingly invested in AI startups, recognizing the immense growth potential of this sector. Foreign investments are also playing a critical role, with global players and international funds diversifying their portfolio by focusing on AI-driven solutions from India.\\n\\n## V. Skills Gap and Talent Development\\n\\n#### A. Demand for Skilled AI Professionals\\n\\nThe surge in AI adoption has heightened the demand for skilled professionals with expertise in data science, machine learning, and deep learning. Indian institutions have responded by introducing specialized courses and certifications such as Data Science Engineer (DSE) by IIIT-Hyderabad and Machine Learning by IIIT-B.\\n\\n#### B. Government Initiatives to Bridge the Skills Gap\\n\\nNITI Aayog's National Programme on AI emphasizes bridging the skills gap through collaborations between industry, academia, and government bodies. This initiative encourages research partnerships, curriculum development, and training programs focused on nurturing a robust AI talent pool.\\n\\n## VI. Challenges and Opportunities for AI in India\\n\\n#### A. Data Privacy Concerns and Regulatory Challenges\\n\\nWith the rise of AI, issues related to data privacy and security have become paramount, necessitating stringent regulations like the Personal Data Protection Bill.\\n\\n#### B. Need for Robust Infrastructure and Internet Connectivity\\n\\nReliable internet connectivity is crucial for leveraging AI's full potential. Jio’s expansion in providing affordable data services has significantly improved internet penetration, laying a foundation for wider AI adoption across sectors.\\n\\n#### C. Potential of AI to Address Socio-Economic Issues\\n\\nAI can play a transformative role in addressing socio-economic challenges by enhancing healthcare accessibility through telemedicine, improving education quality via personalized learning platforms, and fostering rural development through precision agriculture.\\n\\n## VII. Future Trends in AI Adoption in India\\n\\n#### A. Emerging Sectors Likely to Adopt AI\\n\\n1. **E-commerce**: Continued use of AI for personalized recommendations, inventory management, and dynamic pricing.\\n2. **Smart Cities and IoT**: Integration of AI with Internet of Things (IoT) technologies for efficient urban management, waste management, and public safety.\\n3. **Cybersecurity and Fraud Detection**: Leveraging AI to strengthen cybersecurity measures, detect fraudulent activities in real-time, and ensure data integrity.\\n\\n#### B. Role of AI in Shaping the National Economy and Global Competitiveness\\n\\nAI's adoption is expected to drive economic growth by enhancing productivity across industries, creating new job opportunities, and propelling India towards a knowledge-based economy, thus boosting its global competitiveness.\\n\\n## VIII. Case Studies: Success Stories and Real-World Applications of AI in India\\n\\n#### A. Personalized Recommendations by E-commerce Giants\\n\\nPlatforms like Amazon and Flipkart utilize sophisticated algorithms to offer personalized product recommendations, significantly enhancing user experience and driving sales.\\n\\n#### B. Healthcare Advancements Using AI for Diagnostics and Drug Discovery\\n\\nAI has been instrumental in revolutionizing healthcare through AI-powered diagnostic tools like Google's DeepMind Health, aiding in early detection of diseases such as cancer, and accelerating drug discovery processes by analyzing vast biological datasets.\\n\\n#### C. Smart City Initiatives Leveraging IoT and AI for Efficient Urban Management\\n\\nSmart cities like Bengaluru are employing AI to optimize traffic flow, manage waste efficiently, and enhance public safety through real-time surveillance systems.\\n\\n## IX. Conclusion\\n\\nThe rise of AI in India is a testament to the nation's transformative journey towards technological advancement. From humble beginnings to its current strategic positioning as a global AI hub, AI has the potential to revolutionize industries, create employment opportunities, and address socio-economic challenges.\\n\\nThe future holds immense promise with emerging sectors adopting AI at unprecedented scales, promising a paradigm shift in India's economic landscape and global competitiveness. However, realizing this potential requires continuous investment in skills development, robust infrastructure, and adherence to ethical AI practices, ensuring inclusivity and addressing privacy concerns.\\n\\n## X. Call to Action\\n\\nFor those intrigued by the world of AI or seeking to explore career opportunities within this dynamic field, India presents a fertile ground for innovation and growth. Resources such as research papers from institutions like IISc, Delhi Technological University (DTU), and IITs provide in-depth insights into AI's current state and future trends. Furthermore, engaging with industry events like the annual AI Summit India and attending webinars hosted by platforms like TIE (The Economic Times) can offer valuable exposure to the latest AI developments and networking opportunities.\\n\\nEmbracing this technological revolution will not only enrich your professional journey but also contribute to shaping a future-ready India where AI plays a pivotal role in driving economic prosperity and societal well-being.\""
      ]
     },
     "execution_count": 18,
     "metadata": {},
     "output_type": "execute_result"
    }
   ],
   "source": [
    "final_state[\"content\"]"
   ]
  },
  {
   "cell_type": "code",
   "execution_count": null,
   "id": "8168573c",
   "metadata": {},
   "outputs": [],
   "source": []
  }
 ],
 "metadata": {
  "kernelspec": {
   "display_name": ".venv",
   "language": "python",
   "name": "python3"
  },
  "language_info": {
   "codemirror_mode": {
    "name": "ipython",
    "version": 3
   },
   "file_extension": ".py",
   "mimetype": "text/x-python",
   "name": "python",
   "nbconvert_exporter": "python",
   "pygments_lexer": "ipython3",
   "version": "3.13.3"
  }
 },
 "nbformat": 4,
 "nbformat_minor": 5
}
