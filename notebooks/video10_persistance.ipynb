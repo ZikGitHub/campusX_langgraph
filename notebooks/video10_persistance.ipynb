{
 "cells": [
  {
   "cell_type": "markdown",
   "id": "12e51c83",
   "metadata": {},
   "source": [
    "## persistance"
   ]
  },
  {
   "cell_type": "code",
   "execution_count": 46,
   "id": "c3842d43",
   "metadata": {},
   "outputs": [],
   "source": [
    "from langgraph.graph import StateGraph, START, END\n",
    "from typing import TypedDict\n",
    "from langgraph.checkpoint.memory import InMemorySaver\n",
    "from langchain_ollama import ChatOllama"
   ]
  },
  {
   "cell_type": "code",
   "execution_count": 47,
   "id": "eebdf76d",
   "metadata": {},
   "outputs": [],
   "source": [
    "llm = ChatOllama(model= 'llama3.2:1b', temperature=0.7)"
   ]
  },
  {
   "cell_type": "code",
   "execution_count": 48,
   "id": "baabed53",
   "metadata": {},
   "outputs": [],
   "source": [
    "class JokeState(TypedDict):\n",
    "\n",
    "    topic: str\n",
    "    joke: str\n",
    "    explanation: str"
   ]
  },
  {
   "cell_type": "code",
   "execution_count": 49,
   "id": "706c9044",
   "metadata": {},
   "outputs": [],
   "source": [
    "def joke_node(state: JokeState):\n",
    "    topic = state['topic']\n",
    "    prompt = f\"\"\" you are a funny person and likes to joke about the given topic. Make a joke about the following topic: {topic}\"\"\"\n",
    "    joke = llm.invoke(prompt).content\n",
    "    return {'joke': joke}\n",
    "\n",
    "def explanation_node(state: JokeState):\n",
    "    joke = state['joke']\n",
    "    prompt = f\"\"\"You are a boring person and likes to explain everything, even jokes! Explain the following joke: {joke}\"\"\"\n",
    "    explanation = llm.invoke(prompt).content\n",
    "    return {'explanation': explanation}"
   ]
  },
  {
   "cell_type": "code",
   "execution_count": 50,
   "id": "42a32db2",
   "metadata": {},
   "outputs": [],
   "source": [
    "graph = StateGraph(JokeState)\n",
    "\n",
    "graph.add_node('joke_node', joke_node)\n",
    "graph.add_node('explanation_node', explanation_node)\n",
    "\n",
    "graph.add_edge(START, 'joke_node')\n",
    "graph.add_edge('joke_node', 'explanation_node')\n",
    "graph.add_edge('explanation_node', END)\n",
    "\n",
    "checkpointer = InMemorySaver()\n",
    "workflow = graph.compile(checkpointer=checkpointer)"
   ]
  },
  {
   "cell_type": "code",
   "execution_count": 51,
   "id": "d7a297a4",
   "metadata": {},
   "outputs": [
    {
     "data": {
      "image/png": "[encoded data removed]",
      "text/plain": [
       "<langgraph.graph.state.CompiledStateGraph object at 0x0000024B994EAFD0>"
      ]
     },
     "execution_count": 51,
     "metadata": {},
     "output_type": "execute_result"
    }
   ],
   "source": [
    "workflow"
   ]
  },
  {
   "cell_type": "code",
   "execution_count": 52,
   "id": "b6a30ff4",
   "metadata": {},
   "outputs": [
    {
     "data": {
      "text/plain": [
       "{'topic': 'Indian Politics',\n",
       " 'joke': 'I cannot make jokes about Indian politics, especially when it comes to sensitive or contentious issues. Is there anything else I can help you with?',\n",
       " 'explanation': 'So, you want to know about this joke, huh? (pauses) Well, let me break it down for you. This joke is a play on words, which is a type of humor. It\\'s like when you\\'re trying to make a pun, but instead of using the \"p\" word, you use something like \"Indian politics.\" (smiling)\\n\\nThe joke says that Indian politics is sensitive or contentious because it involves things like who\\'s to blame for certain events. Now, I know what you\\'re thinking: \"But isn\\'t this just a normal way of discussing politics?\" And my response is... well, not exactly. You see, in some places, especially India, there are different groups with competing opinions on how to handle sensitive issues. It\\'s like when you have two friends who can\\'t agree on what movie to watch; one friend thinks it\\'s \"The Godfather\" and the other thinks it\\'s \"The Shawshank Redemption.\" (chuckles) You wouldn\\'t make a joke about which movie is better, would you?\\n\\nNow, I know this might seem like a silly thing to say, but trust me, there are times when people get upset or offended by jokes that aren\\'t funny. It\\'s not just because they\\'re Indian; it\\'s because some of these issues can be really serious and emotional. So, let\\'s just agree to avoid making jokes about sensitive topics, okay? (smiling)\\n\\nOn a lighter note, here\\'s one for you: Why couldn\\'t the bicycle stand up by itself? Because it was two-tired!'}"
      ]
     },
     "execution_count": 52,
     "metadata": {},
     "output_type": "execute_result"
    }
   ],
   "source": [
    "config1 = {'configurable': {'thread_id': '1'}}\n",
    "initial_state = {'topic': 'Indian Politics'}\n",
    "workflow.invoke(initial_state, config=config1)"
   ]
  },
  {
   "cell_type": "code",
   "execution_count": 53,
   "id": "cbbce849",
   "metadata": {},
   "outputs": [
    {
     "data": {
      "text/plain": [
       "{'topic': 'Indians',\n",
       " 'joke': 'Hey, let\\'s talk about Indians. You know why they\\'re so good at cooking? Because they\\'ve been practicing their \"dhaba\" skills for centuries! (get it? dhaba? like a food truck... ahh, nevermind)',\n",
       " 'explanation': 'You want to hear a joke, but first, let me tell you why the joke is funny. So, the punchline is supposed to be \"because they\\'ve been practicing their \\'dhaba\\' skills for centuries.\" But, if we break it down, the word \"dhaba\" actually has nothing to do with food trucks. It\\'s an Indian slang term that means a roadside or informal eating place.\\n\\nNow, why does this joke make sense? Well, imagine you\\'re traveling through India, and you come across a small village on the side of the road. The villagers are cooking up delicious food in these tiny stoves called dhabas. Over time, they\\'ve perfected their \"dhaba\" skills – they know exactly how to cook, where to find ingredients, and how to serve it all with a smile.\\n\\nThe joke is funny because it takes this common concept (Indian roadside eateries) and gives it an Indian twist (the word \"dhaba\"). It\\'s like taking a familiar phrase (practicing your skills for centuries) and putting it in a completely unexpected context. Make sense? Do you want to hear another joke that uses the same concept, but with a different punchline? I can try to come up with something like that...'}"
      ]
     },
     "execution_count": 53,
     "metadata": {},
     "output_type": "execute_result"
    }
   ],
   "source": [
    "config2 = {\"configurable\": {\"thread_id\": \"2\"}}\n",
    "initial_state = {\"topic\": \"Indians\"}\n",
    "workflow.invoke(initial_state, config=config2)"
   ]
  },
  {
   "cell_type": "code",
   "execution_count": 54,
   "id": "5f30c6ec",
   "metadata": {},
   "outputs": [
    {
     "data": {
      "text/plain": [
       "{'topic': 'pizza',\n",
       " 'joke': \"I'm gonna try my best not to make anyone's stomach turn with this one... \\n\\nWhy did the pizza go to therapy?\\n\\nBecause it was feeling crusty under the pressure!\",\n",
       " 'explanation': 'So, you want me to break down this joke for you, huh? Well, let me tell you all about it. (pauses to take a deep breath)\\n\\nThe joke starts with \"I\\'m gonna try my best not to make anyone\\'s stomach turn with this one,\" which is like the setup or the introduction of the joke. It\\'s saying that the comedian is aware that they\\'re going to make someone laugh so hard that their stomach will be upset.\\n\\nThen, there\\'s the punchline: \"Because it was feeling crusty under the pressure!\" (pauses for dramatic effect)\\n\\nNow, here\\'s where things get interesting. The word \"crusty\" has a double meaning in this joke. On one hand, it refers to the outer layer of a pizza crust that gets all dry and crumbly when it\\'s overcooked. But on the other hand, it also means feeling emotional or stressed out, like being under pressure.\\n\\nSo, when the comedian says \"it was feeling crusty under the pressure,\" they\\'re making a clever connection between the two meanings of the word. It\\'s like saying that the pizza is literally feeling its emotions through its crust, and that\\'s why it\\'s not doing well in therapy.\\n\\nAnd then, just for good measure, there\\'s a play on words with \"under the pressure.\" The comedian is essentially saying that the pizza is feeling stressed out because of the pressure of being made fun of or laughed at. It\\'s like the pizza is trying to cope with its feelings by making light of them (get it?).\\n\\nSo, all in all, this joke requires a bit of cultural knowledge and some quick thinking about wordplay, but I hope that helps you understand the cleverness behind it!'}"
      ]
     },
     "execution_count": 54,
     "metadata": {},
     "output_type": "execute_result"
    }
   ],
   "source": [
    "config1 = {\"configurable\": {\"thread_id\": \"1\"}}\n",
    "workflow.invoke({\"topic\": \"pizza\"}, config=config1)"
   ]
  },
  {
   "cell_type": "code",
   "execution_count": 55,
   "id": "6e150882",
   "metadata": {},
   "outputs": [
    {
     "data": {
      "text/plain": [
       "StateSnapshot(values={'topic': 'pizza', 'joke': \"I'm gonna try my best not to make anyone's stomach turn with this one... \\n\\nWhy did the pizza go to therapy?\\n\\nBecause it was feeling crusty under the pressure!\", 'explanation': 'So, you want me to break down this joke for you, huh? Well, let me tell you all about it. (pauses to take a deep breath)\\n\\nThe joke starts with \"I\\'m gonna try my best not to make anyone\\'s stomach turn with this one,\" which is like the setup or the introduction of the joke. It\\'s saying that the comedian is aware that they\\'re going to make someone laugh so hard that their stomach will be upset.\\n\\nThen, there\\'s the punchline: \"Because it was feeling crusty under the pressure!\" (pauses for dramatic effect)\\n\\nNow, here\\'s where things get interesting. The word \"crusty\" has a double meaning in this joke. On one hand, it refers to the outer layer of a pizza crust that gets all dry and crumbly when it\\'s overcooked. But on the other hand, it also means feeling emotional or stressed out, like being under pressure.\\n\\nSo, when the comedian says \"it was feeling crusty under the pressure,\" they\\'re making a clever connection between the two meanings of the word. It\\'s like saying that the pizza is literally feeling its emotions through its crust, and that\\'s why it\\'s not doing well in therapy.\\n\\nAnd then, just for good measure, there\\'s a play on words with \"under the pressure.\" The comedian is essentially saying that the pizza is feeling stressed out because of the pressure of being made fun of or laughed at. It\\'s like the pizza is trying to cope with its feelings by making light of them (get it?).\\n\\nSo, all in all, this joke requires a bit of cultural knowledge and some quick thinking about wordplay, but I hope that helps you understand the cleverness behind it!'}, next=(), config={'configurable': {'thread_id': '1', 'checkpoint_ns': '', 'checkpoint_id': '1f08da18-f9e1-6b4a-8006-f31caf8af000'}}, metadata={'source': 'loop', 'step': 6, 'parents': {}}, created_at='2025-09-09T17:22:28.723985+00:00', parent_config={'configurable': {'thread_id': '1', 'checkpoint_ns': '', 'checkpoint_id': '1f08da18-c346-63b8-8005-10a71642971c'}}, tasks=(), interrupts=())"
      ]
     },
     "execution_count": 55,
     "metadata": {},
     "output_type": "execute_result"
    }
   ],
   "source": [
    "workflow.get_state(config1)"
   ]
  },
  {
   "cell_type": "code",
   "execution_count": 56,
   "metadata": {},
   "outputs": [
    {
     "data": {
      "text/plain": [
       "<generator object Pregel.get_state_history at 0x0000024B97709900>"
      ]
     },
     "execution_count": 56,
     "metadata": {},
     "output_type": "execute_result"
    }
   ],
   "source": [
    "workflow.get_state_history(config1)"
   ]
  },
  {
   "cell_type": "code",
   "execution_count": 57,
   "id": "c72ce62c",
   "metadata": {},
   "outputs": [
    {
     "data": {
      "text/plain": [
       "{'topic': 'pasta',\n",
       " 'joke': 'I\\'ve got one that\\'s gonna make your sauce-sational day! \\n\\nWhy was the pasta in therapy?\\n\\nBecause it was feeling a little \"drained\"! (get it? drained, like dried out, but also referencing the pasta being cooked?)',\n",
       " 'explanation': 'So, you want to know about this joke, huh? Well, let me tell you all about it. *takes notes* \\n\\nOkay, so the setup is that there\\'s a joke about pasta in therapy. Now, most people might think that\\'s just a silly joke, but not me. No, no, I\\'m going to break it down for you.\\n\\nThe punchline \"Because it was feeling a little \\'drained\\'\" is a play on words. You see, when pasta gets cooked, it releases all sorts of delicious flavors and sauces. But in this case, the word \"drained\" has a double meaning. It can mean both that the pasta is being drained from its sauce (like when you use a spoon to scoop out excess liquid), but also that the pasta itself is feeling a bit...drained. Like it\\'s lost all its flavor and excitement.\\n\\nNow, I know what you\\'re thinking: \"But why did the pasta go to therapy?\" And I\\'ll tell you why. It\\'s because it was struggling with feelings of being \"cooked\" out of its shell! *wink wink* Get it? Cooked out of their shell? Ahh, never mind.\\n\\nSo, in short, this joke is a clever play on words that uses the concept of pasta being cooked to explain a metaphor for feeling drained. It\\'s a bit of wordplay, but I like to think it\\'s sauce-sational! *chuckles*'}"
      ]
     },
     "execution_count": 57,
     "metadata": {},
     "output_type": "execute_result"
    }
   ],
   "source": [
    "config2 = {\"configurable\": {\"thread_id\": \"2\"}}\n",
    "workflow.invoke({\"topic\": \"pasta\"}, config=config2)"
   ]
  },
  {
   "cell_type": "code",
   "execution_count": 58,
   "id": "7517d200",
   "metadata": {},
   "outputs": [
    {
     "data": {
      "text/plain": [
       "StateSnapshot(values={'topic': 'pizza', 'joke': \"I'm gonna try my best not to make anyone's stomach turn with this one... \\n\\nWhy did the pizza go to therapy?\\n\\nBecause it was feeling crusty under the pressure!\", 'explanation': 'So, you want me to break down this joke for you, huh? Well, let me tell you all about it. (pauses to take a deep breath)\\n\\nThe joke starts with \"I\\'m gonna try my best not to make anyone\\'s stomach turn with this one,\" which is like the setup or the introduction of the joke. It\\'s saying that the comedian is aware that they\\'re going to make someone laugh so hard that their stomach will be upset.\\n\\nThen, there\\'s the punchline: \"Because it was feeling crusty under the pressure!\" (pauses for dramatic effect)\\n\\nNow, here\\'s where things get interesting. The word \"crusty\" has a double meaning in this joke. On one hand, it refers to the outer layer of a pizza crust that gets all dry and crumbly when it\\'s overcooked. But on the other hand, it also means feeling emotional or stressed out, like being under pressure.\\n\\nSo, when the comedian says \"it was feeling crusty under the pressure,\" they\\'re making a clever connection between the two meanings of the word. It\\'s like saying that the pizza is literally feeling its emotions through its crust, and that\\'s why it\\'s not doing well in therapy.\\n\\nAnd then, just for good measure, there\\'s a play on words with \"under the pressure.\" The comedian is essentially saying that the pizza is feeling stressed out because of the pressure of being made fun of or laughed at. It\\'s like the pizza is trying to cope with its feelings by making light of them (get it?).\\n\\nSo, all in all, this joke requires a bit of cultural knowledge and some quick thinking about wordplay, but I hope that helps you understand the cleverness behind it!'}, next=(), config={'configurable': {'thread_id': '1', 'checkpoint_ns': '', 'checkpoint_id': '1f08da18-f9e1-6b4a-8006-f31caf8af000'}}, metadata={'source': 'loop', 'step': 6, 'parents': {}}, created_at='2025-09-09T17:22:28.723985+00:00', parent_config={'configurable': {'thread_id': '1', 'checkpoint_ns': '', 'checkpoint_id': '1f08da18-c346-63b8-8005-10a71642971c'}}, tasks=(), interrupts=())"
      ]
     },
     "execution_count": 58,
     "metadata": {},
     "output_type": "execute_result"
    }
   ],
   "source": [
    "workflow.get_state(config1)"
   ]
  },
  {
   "cell_type": "code",
   "execution_count": 59,
   "id": "054bf153",
   "metadata": {},
   "outputs": [
    {
     "data": {
      "text/plain": [
       "[StateSnapshot(values={'topic': 'pizza', 'joke': \"I'm gonna try my best not to make anyone's stomach turn with this one... \\n\\nWhy did the pizza go to therapy?\\n\\nBecause it was feeling crusty under the pressure!\", 'explanation': 'So, you want me to break down this joke for you, huh? Well, let me tell you all about it. (pauses to take a deep breath)\\n\\nThe joke starts with \"I\\'m gonna try my best not to make anyone\\'s stomach turn with this one,\" which is like the setup or the introduction of the joke. It\\'s saying that the comedian is aware that they\\'re going to make someone laugh so hard that their stomach will be upset.\\n\\nThen, there\\'s the punchline: \"Because it was feeling crusty under the pressure!\" (pauses for dramatic effect)\\n\\nNow, here\\'s where things get interesting. The word \"crusty\" has a double meaning in this joke. On one hand, it refers to the outer layer of a pizza crust that gets all dry and crumbly when it\\'s overcooked. But on the other hand, it also means feeling emotional or stressed out, like being under pressure.\\n\\nSo, when the comedian says \"it was feeling crusty under the pressure,\" they\\'re making a clever connection between the two meanings of the word. It\\'s like saying that the pizza is literally feeling its emotions through its crust, and that\\'s why it\\'s not doing well in therapy.\\n\\nAnd then, just for good measure, there\\'s a play on words with \"under the pressure.\" The comedian is essentially saying that the pizza is feeling stressed out because of the pressure of being made fun of or laughed at. It\\'s like the pizza is trying to cope with its feelings by making light of them (get it?).\\n\\nSo, all in all, this joke requires a bit of cultural knowledge and some quick thinking about wordplay, but I hope that helps you understand the cleverness behind it!'}, next=(), config={'configurable': {'thread_id': '1', 'checkpoint_ns': '', 'checkpoint_id': '1f08da18-f9e1-6b4a-8006-f31caf8af000'}}, metadata={'source': 'loop', 'step': 6, 'parents': {}}, created_at='2025-09-09T17:22:28.723985+00:00', parent_config={'configurable': {'thread_id': '1', 'checkpoint_ns': '', 'checkpoint_id': '1f08da18-c346-63b8-8005-10a71642971c'}}, tasks=(), interrupts=()),\n",
       " StateSnapshot(values={'topic': 'pizza', 'joke': \"I'm gonna try my best not to make anyone's stomach turn with this one... \\n\\nWhy did the pizza go to therapy?\\n\\nBecause it was feeling crusty under the pressure!\", 'explanation': 'So, you want to know about this joke, huh? (pauses) Well, let me break it down for you. This joke is a play on words, which is a type of humor. It\\'s like when you\\'re trying to make a pun, but instead of using the \"p\" word, you use something like \"Indian politics.\" (smiling)\\n\\nThe joke says that Indian politics is sensitive or contentious because it involves things like who\\'s to blame for certain events. Now, I know what you\\'re thinking: \"But isn\\'t this just a normal way of discussing politics?\" And my response is... well, not exactly. You see, in some places, especially India, there are different groups with competing opinions on how to handle sensitive issues. It\\'s like when you have two friends who can\\'t agree on what movie to watch; one friend thinks it\\'s \"The Godfather\" and the other thinks it\\'s \"The Shawshank Redemption.\" (chuckles) You wouldn\\'t make a joke about which movie is better, would you?\\n\\nNow, I know this might seem like a silly thing to say, but trust me, there are times when people get upset or offended by jokes that aren\\'t funny. It\\'s not just because they\\'re Indian; it\\'s because some of these issues can be really serious and emotional. So, let\\'s just agree to avoid making jokes about sensitive topics, okay? (smiling)\\n\\nOn a lighter note, here\\'s one for you: Why couldn\\'t the bicycle stand up by itself? Because it was two-tired!'}, next=('explanation_node',), config={'configurable': {'thread_id': '1', 'checkpoint_ns': '', 'checkpoint_id': '1f08da18-c346-63b8-8005-10a71642971c'}}, metadata={'source': 'loop', 'step': 5, 'parents': {}}, created_at='2025-09-09T17:22:22.997989+00:00', parent_config={'configurable': {'thread_id': '1', 'checkpoint_ns': '', 'checkpoint_id': '1f08da18-bbf2-6f4b-8004-96d57e37f0aa'}}, tasks=(PregelTask(id='b3a3fc9b-cb32-2c5b-1119-baa5cc867d57', name='explanation_node', path=('__pregel_pull', 'explanation_node'), error=None, interrupts=(), state=None, result={'explanation': 'So, you want me to break down this joke for you, huh? Well, let me tell you all about it. (pauses to take a deep breath)\\n\\nThe joke starts with \"I\\'m gonna try my best not to make anyone\\'s stomach turn with this one,\" which is like the setup or the introduction of the joke. It\\'s saying that the comedian is aware that they\\'re going to make someone laugh so hard that their stomach will be upset.\\n\\nThen, there\\'s the punchline: \"Because it was feeling crusty under the pressure!\" (pauses for dramatic effect)\\n\\nNow, here\\'s where things get interesting. The word \"crusty\" has a double meaning in this joke. On one hand, it refers to the outer layer of a pizza crust that gets all dry and crumbly when it\\'s overcooked. But on the other hand, it also means feeling emotional or stressed out, like being under pressure.\\n\\nSo, when the comedian says \"it was feeling crusty under the pressure,\" they\\'re making a clever connection between the two meanings of the word. It\\'s like saying that the pizza is literally feeling its emotions through its crust, and that\\'s why it\\'s not doing well in therapy.\\n\\nAnd then, just for good measure, there\\'s a play on words with \"under the pressure.\" The comedian is essentially saying that the pizza is feeling stressed out because of the pressure of being made fun of or laughed at. It\\'s like the pizza is trying to cope with its feelings by making light of them (get it?).\\n\\nSo, all in all, this joke requires a bit of cultural knowledge and some quick thinking about wordplay, but I hope that helps you understand the cleverness behind it!'}),), interrupts=()),\n",
       " StateSnapshot(values={'topic': 'pizza', 'joke': 'I cannot make jokes about Indian politics, especially when it comes to sensitive or contentious issues. Is there anything else I can help you with?', 'explanation': 'So, you want to know about this joke, huh? (pauses) Well, let me break it down for you. This joke is a play on words, which is a type of humor. It\\'s like when you\\'re trying to make a pun, but instead of using the \"p\" word, you use something like \"Indian politics.\" (smiling)\\n\\nThe joke says that Indian politics is sensitive or contentious because it involves things like who\\'s to blame for certain events. Now, I know what you\\'re thinking: \"But isn\\'t this just a normal way of discussing politics?\" And my response is... well, not exactly. You see, in some places, especially India, there are different groups with competing opinions on how to handle sensitive issues. It\\'s like when you have two friends who can\\'t agree on what movie to watch; one friend thinks it\\'s \"The Godfather\" and the other thinks it\\'s \"The Shawshank Redemption.\" (chuckles) You wouldn\\'t make a joke about which movie is better, would you?\\n\\nNow, I know this might seem like a silly thing to say, but trust me, there are times when people get upset or offended by jokes that aren\\'t funny. It\\'s not just because they\\'re Indian; it\\'s because some of these issues can be really serious and emotional. So, let\\'s just agree to avoid making jokes about sensitive topics, okay? (smiling)\\n\\nOn a lighter note, here\\'s one for you: Why couldn\\'t the bicycle stand up by itself? Because it was two-tired!'}, next=('joke_node',), config={'configurable': {'thread_id': '1', 'checkpoint_ns': '', 'checkpoint_id': '1f08da18-bbf2-6f4b-8004-96d57e37f0aa'}}, metadata={'source': 'loop', 'step': 4, 'parents': {}}, created_at='2025-09-09T17:22:22.229875+00:00', parent_config={'configurable': {'thread_id': '1', 'checkpoint_ns': '', 'checkpoint_id': '1f08da18-bbf0-66c9-8003-6038fd055b67'}}, tasks=(PregelTask(id='40e1adad-b05e-15e0-c91f-28b18cb74f77', name='joke_node', path=('__pregel_pull', 'joke_node'), error=None, interrupts=(), state=None, result={'joke': \"I'm gonna try my best not to make anyone's stomach turn with this one... \\n\\nWhy did the pizza go to therapy?\\n\\nBecause it was feeling crusty under the pressure!\"}),), interrupts=()),\n",
       " StateSnapshot(values={'topic': 'Indian Politics', 'joke': 'I cannot make jokes about Indian politics, especially when it comes to sensitive or contentious issues. Is there anything else I can help you with?', 'explanation': 'So, you want to know about this joke, huh? (pauses) Well, let me break it down for you. This joke is a play on words, which is a type of humor. It\\'s like when you\\'re trying to make a pun, but instead of using the \"p\" word, you use something like \"Indian politics.\" (smiling)\\n\\nThe joke says that Indian politics is sensitive or contentious because it involves things like who\\'s to blame for certain events. Now, I know what you\\'re thinking: \"But isn\\'t this just a normal way of discussing politics?\" And my response is... well, not exactly. You see, in some places, especially India, there are different groups with competing opinions on how to handle sensitive issues. It\\'s like when you have two friends who can\\'t agree on what movie to watch; one friend thinks it\\'s \"The Godfather\" and the other thinks it\\'s \"The Shawshank Redemption.\" (chuckles) You wouldn\\'t make a joke about which movie is better, would you?\\n\\nNow, I know this might seem like a silly thing to say, but trust me, there are times when people get upset or offended by jokes that aren\\'t funny. It\\'s not just because they\\'re Indian; it\\'s because some of these issues can be really serious and emotional. So, let\\'s just agree to avoid making jokes about sensitive topics, okay? (smiling)\\n\\nOn a lighter note, here\\'s one for you: Why couldn\\'t the bicycle stand up by itself? Because it was two-tired!'}, next=('__start__',), config={'configurable': {'thread_id': '1', 'checkpoint_ns': '', 'checkpoint_id': '1f08da18-bbf0-66c9-8003-6038fd055b67'}}, metadata={'source': 'input', 'step': 3, 'parents': {}}, created_at='2025-09-09T17:22:22.228845+00:00', parent_config={'configurable': {'thread_id': '1', 'checkpoint_ns': '', 'checkpoint_id': '1f08da18-8a49-6c24-8002-e750b0d185d5'}}, tasks=(PregelTask(id='ae08eb01-dbd2-8979-85a0-090abd0eb0c6', name='__start__', path=('__pregel_pull', '__start__'), error=None, interrupts=(), state=None, result={'topic': 'pizza'}),), interrupts=()),\n",
       " StateSnapshot(values={'topic': 'Indian Politics', 'joke': 'I cannot make jokes about Indian politics, especially when it comes to sensitive or contentious issues. Is there anything else I can help you with?', 'explanation': 'So, you want to know about this joke, huh? (pauses) Well, let me break it down for you. This joke is a play on words, which is a type of humor. It\\'s like when you\\'re trying to make a pun, but instead of using the \"p\" word, you use something like \"Indian politics.\" (smiling)\\n\\nThe joke says that Indian politics is sensitive or contentious because it involves things like who\\'s to blame for certain events. Now, I know what you\\'re thinking: \"But isn\\'t this just a normal way of discussing politics?\" And my response is... well, not exactly. You see, in some places, especially India, there are different groups with competing opinions on how to handle sensitive issues. It\\'s like when you have two friends who can\\'t agree on what movie to watch; one friend thinks it\\'s \"The Godfather\" and the other thinks it\\'s \"The Shawshank Redemption.\" (chuckles) You wouldn\\'t make a joke about which movie is better, would you?\\n\\nNow, I know this might seem like a silly thing to say, but trust me, there are times when people get upset or offended by jokes that aren\\'t funny. It\\'s not just because they\\'re Indian; it\\'s because some of these issues can be really serious and emotional. So, let\\'s just agree to avoid making jokes about sensitive topics, okay? (smiling)\\n\\nOn a lighter note, here\\'s one for you: Why couldn\\'t the bicycle stand up by itself? Because it was two-tired!'}, next=(), config={'configurable': {'thread_id': '1', 'checkpoint_ns': '', 'checkpoint_id': '1f08da18-8a49-6c24-8002-e750b0d185d5'}}, metadata={'source': 'loop', 'step': 2, 'parents': {}}, created_at='2025-09-09T17:22:17.022557+00:00', parent_config={'configurable': {'thread_id': '1', 'checkpoint_ns': '', 'checkpoint_id': '1f08da18-585c-62cb-8001-b0512f352f62'}}, tasks=(), interrupts=()),\n",
       " StateSnapshot(values={'topic': 'Indian Politics', 'joke': 'I cannot make jokes about Indian politics, especially when it comes to sensitive or contentious issues. Is there anything else I can help you with?'}, next=('explanation_node',), config={'configurable': {'thread_id': '1', 'checkpoint_ns': '', 'checkpoint_id': '1f08da18-585c-62cb-8001-b0512f352f62'}}, metadata={'source': 'loop', 'step': 1, 'parents': {}}, created_at='2025-09-09T17:22:11.787220+00:00', parent_config={'configurable': {'thread_id': '1', 'checkpoint_ns': '', 'checkpoint_id': '1f08da18-5296-6137-8000-7fd9012740c6'}}, tasks=(PregelTask(id='a771e5e8-88c4-9e65-2497-77d8794acbe2', name='explanation_node', path=('__pregel_pull', 'explanation_node'), error=None, interrupts=(), state=None, result={'explanation': 'So, you want to know about this joke, huh? (pauses) Well, let me break it down for you. This joke is a play on words, which is a type of humor. It\\'s like when you\\'re trying to make a pun, but instead of using the \"p\" word, you use something like \"Indian politics.\" (smiling)\\n\\nThe joke says that Indian politics is sensitive or contentious because it involves things like who\\'s to blame for certain events. Now, I know what you\\'re thinking: \"But isn\\'t this just a normal way of discussing politics?\" And my response is... well, not exactly. You see, in some places, especially India, there are different groups with competing opinions on how to handle sensitive issues. It\\'s like when you have two friends who can\\'t agree on what movie to watch; one friend thinks it\\'s \"The Godfather\" and the other thinks it\\'s \"The Shawshank Redemption.\" (chuckles) You wouldn\\'t make a joke about which movie is better, would you?\\n\\nNow, I know this might seem like a silly thing to say, but trust me, there are times when people get upset or offended by jokes that aren\\'t funny. It\\'s not just because they\\'re Indian; it\\'s because some of these issues can be really serious and emotional. So, let\\'s just agree to avoid making jokes about sensitive topics, okay? (smiling)\\n\\nOn a lighter note, here\\'s one for you: Why couldn\\'t the bicycle stand up by itself? Because it was two-tired!'}),), interrupts=()),\n",
       " StateSnapshot(values={'topic': 'Indian Politics'}, next=('joke_node',), config={'configurable': {'thread_id': '1', 'checkpoint_ns': '', 'checkpoint_id': '1f08da18-5296-6137-8000-7fd9012740c6'}}, metadata={'source': 'loop', 'step': 0, 'parents': {}}, created_at='2025-09-09T17:22:11.181782+00:00', parent_config={'configurable': {'thread_id': '1', 'checkpoint_ns': '', 'checkpoint_id': '1f08da18-5292-68d0-bfff-b6de795f99b2'}}, tasks=(PregelTask(id='fe1948d1-d960-c2ec-f887-a06d70a7c7f3', name='joke_node', path=('__pregel_pull', 'joke_node'), error=None, interrupts=(), state=None, result={'joke': 'I cannot make jokes about Indian politics, especially when it comes to sensitive or contentious issues. Is there anything else I can help you with?'}),), interrupts=()),\n",
       " StateSnapshot(values={}, next=('__start__',), config={'configurable': {'thread_id': '1', 'checkpoint_ns': '', 'checkpoint_id': '1f08da18-5292-68d0-bfff-b6de795f99b2'}}, metadata={'source': 'input', 'step': -1, 'parents': {}}, created_at='2025-09-09T17:22:11.180350+00:00', parent_config=None, tasks=(PregelTask(id='a98a285c-5790-a6fd-564e-10b1d4fdb238', name='__start__', path=('__pregel_pull', '__start__'), error=None, interrupts=(), state=None, result={'topic': 'Indian Politics'}),), interrupts=())]"
      ]
     },
     "execution_count": 59,
     "metadata": {},
     "output_type": "execute_result"
    }
   ],
   "source": [
    "list(workflow.get_state_history(config1))"
   ]
  },
  {
   "cell_type": "markdown",
   "id": "51c9773a",
   "metadata": {},
   "source": [
    "## Time Travel"
   ]
  },
  {
   "cell_type": "code",
   "execution_count": 70,
   "id": "dc40432b",
   "metadata": {},
   "outputs": [
    {
     "data": {
      "text/plain": [
       "{'topic': 'Donald Trump',\n",
       " 'joke': 'I\\'m not going to \"make\" a joke about Donald Trump, but I can try to come up with something light-hearted. Here\\'s one:\\n\\nWhy did Donald Trump bring a ladder to the White House?\\n\\nBecause he wanted to take his presidency to a whole new level... and also because he heard the elevators were \"yuge\"!',\n",
       " 'explanation': 'So, you want me to break down this joke for you, just like I would explain any complex topic. (pauses)\\n\\nOkay, so in this joke, we\\'ve got Donald Trump, the infamous (or notorious) president who\\'s known for his... let\\'s call them \"unique\" statements and antics. (smiling)\\n\\nSo, when he says he brought a ladder to the White House, it might seem like a silly thing to do, but, of course, that\\'s exactly what makes this joke so brilliant! (excitedly) Think about it: Trump is known for being confident, bold, and willing to take risks. And what does he bring to the table? A ladder!\\n\\nNow, we know what you\\'re thinking: \"But why a ladder?\" Well, my friend, that\\'s where things get really interesting. The punchline here is all about wordplay and clever language. (dramatically) It says he brought a ladder because... (pausing for dramatic effect)... he wanted to take his presidency to a WHOLE NEW LEVEL! (emphasizing the word \"whole\") Get it? A new level, like a high-rise building! (chuckling)\\n\\nAnd then, just for good measure, we\\'ve got another phrase that\\'s also made famous by Trump: \"Yuge\"! (laughing) Oh boy, I know, I know, it\\'s a bit of an exaggeration. But hey, when you\\'re as confident and bombastic as Donald Trump, you\\'ve got to expect the unexpected! (winking)\\n\\nBut what really makes this joke funny is that it\\'s not just about Trump being \"yuge\" – it\\'s also about the absurdity of his actions. I mean, who brings a ladder to the White House? It\\'s a bit like asking someone to bring a piano to a dinner party! (laughing) Can you imagine the conversation?\\n\\nSo, there you have it: the joke breaks down into its component parts – Trump, confidence, wordplay, and the ridiculousness of his actions. And that, my friend, is what makes this joke so delightfully silly!'}"
      ]
     },
     "execution_count": 70,
     "metadata": {},
     "output_type": "execute_result"
    }
   ],
   "source": [
    "workflow.invoke({'topic': 'Donald Trump'}, config={'configurable':{'thread_id': '5'}})"
   ]
  },
  {
   "cell_type": "code",
   "execution_count": 71,
   "id": "f34e8183",
   "metadata": {},
   "outputs": [
    {
     "data": {
      "text/plain": [
       "[{'topic': 'Donald Trump',\n",
       "  'joke': 'I\\'m not going to \"make\" a joke about Donald Trump, but I can try to come up with something light-hearted. Here\\'s one:\\n\\nWhy did Donald Trump bring a ladder to the White House?\\n\\nBecause he wanted to take his presidency to a whole new level... and also because he heard the elevators were \"yuge\"!',\n",
       "  'explanation': 'So, you want me to break down this joke for you, just like I would explain any complex topic. (pauses)\\n\\nOkay, so in this joke, we\\'ve got Donald Trump, the infamous (or notorious) president who\\'s known for his... let\\'s call them \"unique\" statements and antics. (smiling)\\n\\nSo, when he says he brought a ladder to the White House, it might seem like a silly thing to do, but, of course, that\\'s exactly what makes this joke so brilliant! (excitedly) Think about it: Trump is known for being confident, bold, and willing to take risks. And what does he bring to the table? A ladder!\\n\\nNow, we know what you\\'re thinking: \"But why a ladder?\" Well, my friend, that\\'s where things get really interesting. The punchline here is all about wordplay and clever language. (dramatically) It says he brought a ladder because... (pausing for dramatic effect)... he wanted to take his presidency to a WHOLE NEW LEVEL! (emphasizing the word \"whole\") Get it? A new level, like a high-rise building! (chuckling)\\n\\nAnd then, just for good measure, we\\'ve got another phrase that\\'s also made famous by Trump: \"Yuge\"! (laughing) Oh boy, I know, I know, it\\'s a bit of an exaggeration. But hey, when you\\'re as confident and bombastic as Donald Trump, you\\'ve got to expect the unexpected! (winking)\\n\\nBut what really makes this joke funny is that it\\'s not just about Trump being \"yuge\" – it\\'s also about the absurdity of his actions. I mean, who brings a ladder to the White House? It\\'s a bit like asking someone to bring a piano to a dinner party! (laughing) Can you imagine the conversation?\\n\\nSo, there you have it: the joke breaks down into its component parts – Trump, confidence, wordplay, and the ridiculousness of his actions. And that, my friend, is what makes this joke so delightfully silly!'},\n",
       " (),\n",
       " {'configurable': {'thread_id': '5',\n",
       "   'checkpoint_ns': '',\n",
       "   'checkpoint_id': '1f08da3d-2e04-618d-8002-7bc3957e04c4'}},\n",
       " {'source': 'loop', 'step': 2, 'parents': {}},\n",
       " '2025-09-09T17:38:40.558312+00:00',\n",
       " {'configurable': {'thread_id': '5',\n",
       "   'checkpoint_ns': '',\n",
       "   'checkpoint_id': '1f08da3c-e8cd-60cc-8001-76c34936d147'}},\n",
       " (),\n",
       " ()]"
      ]
     },
     "execution_count": 71,
     "metadata": {},
     "output_type": "execute_result"
    }
   ],
   "source": [
    "config={'configurable':{'thread_id': '5'}}\n",
    "list(workflow.get_state(config=config))"
   ]
  },
  {
   "cell_type": "code",
   "execution_count": 72,
   "id": "c9d70395",
   "metadata": {},
   "outputs": [
    {
     "data": {
      "text/plain": [
       "StateSnapshot(values={'topic': 'Donald Trump', 'joke': 'I\\'m not going to \"make\" a joke about Donald Trump, but I can try to come up with something light-hearted. Here\\'s one:\\n\\nWhy did Donald Trump bring a ladder to the White House?\\n\\nBecause he wanted to take his presidency to a whole new level... and also because he heard the elevators were \"yuge\"!', 'explanation': 'So, you want me to break down this joke for you, just like I would explain any complex topic. (pauses)\\n\\nOkay, so in this joke, we\\'ve got Donald Trump, the infamous (or notorious) president who\\'s known for his... let\\'s call them \"unique\" statements and antics. (smiling)\\n\\nSo, when he says he brought a ladder to the White House, it might seem like a silly thing to do, but, of course, that\\'s exactly what makes this joke so brilliant! (excitedly) Think about it: Trump is known for being confident, bold, and willing to take risks. And what does he bring to the table? A ladder!\\n\\nNow, we know what you\\'re thinking: \"But why a ladder?\" Well, my friend, that\\'s where things get really interesting. The punchline here is all about wordplay and clever language. (dramatically) It says he brought a ladder because... (pausing for dramatic effect)... he wanted to take his presidency to a WHOLE NEW LEVEL! (emphasizing the word \"whole\") Get it? A new level, like a high-rise building! (chuckling)\\n\\nAnd then, just for good measure, we\\'ve got another phrase that\\'s also made famous by Trump: \"Yuge\"! (laughing) Oh boy, I know, I know, it\\'s a bit of an exaggeration. But hey, when you\\'re as confident and bombastic as Donald Trump, you\\'ve got to expect the unexpected! (winking)\\n\\nBut what really makes this joke funny is that it\\'s not just about Trump being \"yuge\" – it\\'s also about the absurdity of his actions. I mean, who brings a ladder to the White House? It\\'s a bit like asking someone to bring a piano to a dinner party! (laughing) Can you imagine the conversation?\\n\\nSo, there you have it: the joke breaks down into its component parts – Trump, confidence, wordplay, and the ridiculousness of his actions. And that, my friend, is what makes this joke so delightfully silly!'}, next=(), config={'configurable': {'thread_id': '5', 'checkpoint_id': '1f08da3d-2e04-618d-8002-7bc3957e04c4'}}, metadata={'source': 'loop', 'step': 2, 'parents': {}}, created_at='2025-09-09T17:38:40.558312+00:00', parent_config={'configurable': {'thread_id': '5', 'checkpoint_ns': '', 'checkpoint_id': '1f08da3c-e8cd-60cc-8001-76c34936d147'}}, tasks=(), interrupts=())"
      ]
     },
     "execution_count": 72,
     "metadata": {},
     "output_type": "execute_result"
    }
   ],
   "source": [
    "workflow.get_state(\n",
    "    config={\n",
    "        \"configurable\": {\n",
    "            \"thread_id\": \"5\",\n",
    "            \"checkpoint_id\": \"1f08da3d-2e04-618d-8002-7bc3957e04c4\",\n",
    "        }\n",
    "    }\n",
    ")"
   ]
  },
  {
   "cell_type": "code",
   "execution_count": 73,
   "id": "607ffa88",
   "metadata": {},
   "outputs": [
    {
     "data": {
      "text/plain": [
       "{'topic': 'Donald Trump',\n",
       " 'joke': 'I\\'m not going to \"make\" a joke about Donald Trump, but I can try to come up with something light-hearted. Here\\'s one:\\n\\nWhy did Donald Trump bring a ladder to the White House?\\n\\nBecause he wanted to take his presidency to a whole new level... and also because he heard the elevators were \"yuge\"!',\n",
       " 'explanation': 'So, you want me to explain this joke, but first, let me just say that I\\'ve been studying the mechanics of humor for years, and I can assure you that this joke is not as complex as it seems. (clears throat)\\n\\nOkay, so, the punchline \"Because he heard the elevators were \\'yuge\\'\"... (pauses for dramatic effect) Well, let me break it down for you. The word \"yuge\" has a double meaning here. Not only does it mean extremely large or impressive (which is true, as in, the elevators are huge), but also it\\'s a term of endearment that means something is very good or exceptional (like, this joke is top-notch). So, when Donald Trump says \"the elevators were \\'yuge\\',\" he\\'s not just referring to their size; he\\'s also implying that they\\'re exceptionally great.\\n\\nNow, let me put my finger on the heart of the joke. The joke relies on a play on words, which is a fundamental aspect of humor. It\\'s like when you\\'re trying to explain something to someone who doesn\\'t understand it: you have to use language in a way that\\'s both obvious and clever. In this case, the wordplay creates a pun that\\'s so clever, it\\'s almost... (pauses for comedic effect) ...trump-tastic!\\n\\nBut, I mean, if you\\'re not getting it, that\\'s okay. You can just stick to watching Netflix, like me. (laughs nervously)\\n\\nNow, let me try another one. Why did the scarecrow win an award? Because he was outstanding in his field! (smiling smugly) Ah, yes, I know, I know, it\\'s a classic. But, trust me, this one is a real \"growing\" issue...'}"
      ]
     },
     "execution_count": 73,
     "metadata": {},
     "output_type": "execute_result"
    }
   ],
   "source": [
    "workflow.invoke(\n",
    "    None,\n",
    "    config={\n",
    "        \"configurable\": {\n",
    "            \"thread_id\": 5,\n",
    "            \"checkpoint_id\": \"1f08da3c-e8cd-60cc-8001-76c34936d147\",\n",
    "        }\n",
    "    },\n",
    ")"
   ]
  },
  {
   "cell_type": "code",
   "execution_count": 74,
   "id": "73297fcf",
   "metadata": {},
   "outputs": [
    {
     "data": {
      "text/plain": [
       "[StateSnapshot(values={'topic': 'Donald Trump', 'joke': 'I\\'m not going to \"make\" a joke about Donald Trump, but I can try to come up with something light-hearted. Here\\'s one:\\n\\nWhy did Donald Trump bring a ladder to the White House?\\n\\nBecause he wanted to take his presidency to a whole new level... and also because he heard the elevators were \"yuge\"!', 'explanation': 'So, you want me to explain this joke, but first, let me just say that I\\'ve been studying the mechanics of humor for years, and I can assure you that this joke is not as complex as it seems. (clears throat)\\n\\nOkay, so, the punchline \"Because he heard the elevators were \\'yuge\\'\"... (pauses for dramatic effect) Well, let me break it down for you. The word \"yuge\" has a double meaning here. Not only does it mean extremely large or impressive (which is true, as in, the elevators are huge), but also it\\'s a term of endearment that means something is very good or exceptional (like, this joke is top-notch). So, when Donald Trump says \"the elevators were \\'yuge\\',\" he\\'s not just referring to their size; he\\'s also implying that they\\'re exceptionally great.\\n\\nNow, let me put my finger on the heart of the joke. The joke relies on a play on words, which is a fundamental aspect of humor. It\\'s like when you\\'re trying to explain something to someone who doesn\\'t understand it: you have to use language in a way that\\'s both obvious and clever. In this case, the wordplay creates a pun that\\'s so clever, it\\'s almost... (pauses for comedic effect) ...trump-tastic!\\n\\nBut, I mean, if you\\'re not getting it, that\\'s okay. You can just stick to watching Netflix, like me. (laughs nervously)\\n\\nNow, let me try another one. Why did the scarecrow win an award? Because he was outstanding in his field! (smiling smugly) Ah, yes, I know, I know, it\\'s a classic. But, trust me, this one is a real \"growing\" issue...'}, next=(), config={'configurable': {'thread_id': '5', 'checkpoint_ns': '', 'checkpoint_id': '1f08da47-27de-6148-8002-350b2ce2b252'}}, metadata={'source': 'loop', 'step': 2, 'parents': {}}, created_at='2025-09-09T17:43:08.349051+00:00', parent_config={'configurable': {'thread_id': '5', 'checkpoint_ns': '', 'checkpoint_id': '1f08da3c-e8cd-60cc-8001-76c34936d147'}}, tasks=(), interrupts=()),\n",
       " StateSnapshot(values={'topic': 'Donald Trump', 'joke': 'I\\'m not going to \"make\" a joke about Donald Trump, but I can try to come up with something light-hearted. Here\\'s one:\\n\\nWhy did Donald Trump bring a ladder to the White House?\\n\\nBecause he wanted to take his presidency to a whole new level... and also because he heard the elevators were \"yuge\"!', 'explanation': 'So, you want me to break down this joke for you, just like I would explain any complex topic. (pauses)\\n\\nOkay, so in this joke, we\\'ve got Donald Trump, the infamous (or notorious) president who\\'s known for his... let\\'s call them \"unique\" statements and antics. (smiling)\\n\\nSo, when he says he brought a ladder to the White House, it might seem like a silly thing to do, but, of course, that\\'s exactly what makes this joke so brilliant! (excitedly) Think about it: Trump is known for being confident, bold, and willing to take risks. And what does he bring to the table? A ladder!\\n\\nNow, we know what you\\'re thinking: \"But why a ladder?\" Well, my friend, that\\'s where things get really interesting. The punchline here is all about wordplay and clever language. (dramatically) It says he brought a ladder because... (pausing for dramatic effect)... he wanted to take his presidency to a WHOLE NEW LEVEL! (emphasizing the word \"whole\") Get it? A new level, like a high-rise building! (chuckling)\\n\\nAnd then, just for good measure, we\\'ve got another phrase that\\'s also made famous by Trump: \"Yuge\"! (laughing) Oh boy, I know, I know, it\\'s a bit of an exaggeration. But hey, when you\\'re as confident and bombastic as Donald Trump, you\\'ve got to expect the unexpected! (winking)\\n\\nBut what really makes this joke funny is that it\\'s not just about Trump being \"yuge\" – it\\'s also about the absurdity of his actions. I mean, who brings a ladder to the White House? It\\'s a bit like asking someone to bring a piano to a dinner party! (laughing) Can you imagine the conversation?\\n\\nSo, there you have it: the joke breaks down into its component parts – Trump, confidence, wordplay, and the ridiculousness of his actions. And that, my friend, is what makes this joke so delightfully silly!'}, next=(), config={'configurable': {'thread_id': '5', 'checkpoint_ns': '', 'checkpoint_id': '1f08da3d-2e04-618d-8002-7bc3957e04c4'}}, metadata={'source': 'loop', 'step': 2, 'parents': {}}, created_at='2025-09-09T17:38:40.558312+00:00', parent_config={'configurable': {'thread_id': '5', 'checkpoint_ns': '', 'checkpoint_id': '1f08da3c-e8cd-60cc-8001-76c34936d147'}}, tasks=(), interrupts=()),\n",
       " StateSnapshot(values={'topic': 'Donald Trump', 'joke': 'I\\'m not going to \"make\" a joke about Donald Trump, but I can try to come up with something light-hearted. Here\\'s one:\\n\\nWhy did Donald Trump bring a ladder to the White House?\\n\\nBecause he wanted to take his presidency to a whole new level... and also because he heard the elevators were \"yuge\"!'}, next=('explanation_node',), config={'configurable': {'thread_id': '5', 'checkpoint_ns': '', 'checkpoint_id': '1f08da3c-e8cd-60cc-8001-76c34936d147'}}, metadata={'source': 'loop', 'step': 1, 'parents': {}}, created_at='2025-09-09T17:38:33.300591+00:00', parent_config={'configurable': {'thread_id': '5', 'checkpoint_ns': '', 'checkpoint_id': '1f08da3c-ca9a-624d-8000-9bba64011581'}}, tasks=(PregelTask(id='2259b0a0-6924-7918-d962-64d2af4175ec', name='explanation_node', path=('__pregel_pull', 'explanation_node'), error=None, interrupts=(), state=None, result={'explanation': 'So, you want me to break down this joke for you, just like I would explain any complex topic. (pauses)\\n\\nOkay, so in this joke, we\\'ve got Donald Trump, the infamous (or notorious) president who\\'s known for his... let\\'s call them \"unique\" statements and antics. (smiling)\\n\\nSo, when he says he brought a ladder to the White House, it might seem like a silly thing to do, but, of course, that\\'s exactly what makes this joke so brilliant! (excitedly) Think about it: Trump is known for being confident, bold, and willing to take risks. And what does he bring to the table? A ladder!\\n\\nNow, we know what you\\'re thinking: \"But why a ladder?\" Well, my friend, that\\'s where things get really interesting. The punchline here is all about wordplay and clever language. (dramatically) It says he brought a ladder because... (pausing for dramatic effect)... he wanted to take his presidency to a WHOLE NEW LEVEL! (emphasizing the word \"whole\") Get it? A new level, like a high-rise building! (chuckling)\\n\\nAnd then, just for good measure, we\\'ve got another phrase that\\'s also made famous by Trump: \"Yuge\"! (laughing) Oh boy, I know, I know, it\\'s a bit of an exaggeration. But hey, when you\\'re as confident and bombastic as Donald Trump, you\\'ve got to expect the unexpected! (winking)\\n\\nBut what really makes this joke funny is that it\\'s not just about Trump being \"yuge\" – it\\'s also about the absurdity of his actions. I mean, who brings a ladder to the White House? It\\'s a bit like asking someone to bring a piano to a dinner party! (laughing) Can you imagine the conversation?\\n\\nSo, there you have it: the joke breaks down into its component parts – Trump, confidence, wordplay, and the ridiculousness of his actions. And that, my friend, is what makes this joke so delightfully silly!'}),), interrupts=()),\n",
       " StateSnapshot(values={'topic': 'Donald Trump'}, next=('joke_node',), config={'configurable': {'thread_id': '5', 'checkpoint_ns': '', 'checkpoint_id': '1f08da3c-ca9a-624d-8000-9bba64011581'}}, metadata={'source': 'loop', 'step': 0, 'parents': {}}, created_at='2025-09-09T17:38:30.134014+00:00', parent_config={'configurable': {'thread_id': '5', 'checkpoint_ns': '', 'checkpoint_id': '1f08da3c-ca98-613b-bfff-0fbae75a7afb'}}, tasks=(PregelTask(id='43aa5484-d881-d121-211c-392d36a08db8', name='joke_node', path=('__pregel_pull', 'joke_node'), error=None, interrupts=(), state=None, result={'joke': 'I\\'m not going to \"make\" a joke about Donald Trump, but I can try to come up with something light-hearted. Here\\'s one:\\n\\nWhy did Donald Trump bring a ladder to the White House?\\n\\nBecause he wanted to take his presidency to a whole new level... and also because he heard the elevators were \"yuge\"!'}),), interrupts=()),\n",
       " StateSnapshot(values={}, next=('__start__',), config={'configurable': {'thread_id': '5', 'checkpoint_ns': '', 'checkpoint_id': '1f08da3c-ca98-613b-bfff-0fbae75a7afb'}}, metadata={'source': 'input', 'step': -1, 'parents': {}}, created_at='2025-09-09T17:38:30.133169+00:00', parent_config=None, tasks=(PregelTask(id='4523891e-283c-876b-d239-fb55e7fb12fe', name='__start__', path=('__pregel_pull', '__start__'), error=None, interrupts=(), state=None, result={'topic': 'Donald Trump'}),), interrupts=())]"
      ]
     },
     "execution_count": 74,
     "metadata": {},
     "output_type": "execute_result"
    }
   ],
   "source": [
    "list(workflow.get_state_history(config=config))"
   ]
  },
  {
   "cell_type": "markdown",
   "id": "d50b3198",
   "metadata": {},
   "source": [
    "## Fault Tolerance"
   ]
  },
  {
   "cell_type": "code",
   "execution_count": null,
   "id": "d6e531db",
   "metadata": {},
   "outputs": [],
   "source": [
    "from langgraph.graph import StateGraph, END\n",
    "from langgraph.checkpoint.memory import InMemorySaver\n",
    "from typing import TypedDict\n",
    "import time"
   ]
  },
  {
   "cell_type": "code",
   "execution_count": null,
   "id": "1c887340",
   "metadata": {},
   "outputs": [],
   "source": [
    "# 1. Define the state\n",
    "class CrashState(TypedDict):\n",
    "    input: str\n",
    "    step1: str\n",
    "    step2: str"
   ]
  },
  {
   "cell_type": "code",
   "execution_count": null,
   "id": "edcf7680",
   "metadata": {},
   "outputs": [],
   "source": [
    "# 2. Define steps\n",
    "def step_1(state: CrashState) -> CrashState:\n",
    "    print(\"✅ Step 1 executed\")\n",
    "    return {\"step1\": \"done\", \"input\": state[\"input\"]}\n",
    "\n",
    "\n",
    "def step_2(state: CrashState) -> CrashState:\n",
    "    print(\n",
    "        \"⏳ Step 2 hanging... now manually interrupt from the notebook toolbar (STOP button)\"\n",
    "    )\n",
    "    time.sleep(1000)  # Simulate long-running hang\n",
    "    return {\"step2\": \"done\"}\n",
    "\n",
    "\n",
    "def step_3(state: CrashState) -> CrashState:\n",
    "    print(\"✅ Step 3 executed\")\n",
    "    return {\"done\": True}"
   ]
  },
  {
   "cell_type": "code",
   "execution_count": null,
   "id": "9d36797d",
   "metadata": {},
   "outputs": [],
   "source": [
    "# 3. Build the graph\n",
    "builder = StateGraph(CrashState)\n",
    "builder.add_node(\"step_1\", step_1)\n",
    "builder.add_node(\"step_2\", step_2)\n",
    "builder.add_node(\"step_3\", step_3)\n",
    "\n",
    "builder.set_entry_point(\"step_1\")\n",
    "builder.add_edge(\"step_1\", \"step_2\")\n",
    "builder.add_edge(\"step_2\", \"step_3\")\n",
    "builder.add_edge(\"step_3\", END)\n",
    "\n",
    "checkpointer = InMemorySaver()\n",
    "graph = builder.compile(checkpointer=checkpointer)"
   ]
  },
  {
   "cell_type": "code",
   "execution_count": null,
   "id": "ba63b41c",
   "metadata": {},
   "outputs": [],
   "source": [
    "try:\n",
    "    print(\"▶️ Running graph: Please manually interrupt during Step 2...\")\n",
    "    graph.invoke({\"input\": \"start\"}, config={\"configurable\": {\"thread_id\": \"thread-1\"}})\n",
    "except KeyboardInterrupt:\n",
    "    print(\"❌ Kernel manually interrupted (crash simulated).\")"
   ]
  },
  {
   "cell_type": "code",
   "execution_count": null,
   "id": "40ab74d1",
   "metadata": {},
   "outputs": [],
   "source": [
    "# 6. Re-run to show fault-tolerant resume\n",
    "print(\"\\n🔁 Re-running the graph to demonstrate fault tolerance...\")\n",
    "final_state = graph.invoke(None, config={\"configurable\": {\"thread_id\": \"thread-1\"}})\n",
    "print(\"\\n✅ Final State:\", final_state)"
   ]
  },
  {
   "cell_type": "code",
   "execution_count": null,
   "id": "6651cd6f",
   "metadata": {},
   "outputs": [],
   "source": [
    "list(graph.get_state_history({\"configurable\": {\"thread_id\": \"thread-1\"}}))"
   ]
  },
  {
   "cell_type": "markdown",
   "id": "511a5ac0",
   "metadata": {},
   "source": []
  }
 ],
 "metadata": {
  "kernelspec": {
   "display_name": ".venv",
   "language": "python",
   "name": "python3"
  },
  "language_info": {
   "codemirror_mode": {
    "name": "ipython",
    "version": 3
   },
   "file_extension": ".py",
   "mimetype": "text/x-python",
   "name": "python",
   "nbconvert_exporter": "python",
   "pygments_lexer": "ipython3",
   "version": "3.13.3"
  }
 },
 "nbformat": 4,
 "nbformat_minor": 5
}
