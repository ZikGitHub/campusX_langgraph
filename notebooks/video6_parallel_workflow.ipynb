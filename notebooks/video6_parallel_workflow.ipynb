{
 "cells": [
  {
   "cell_type": "markdown",
   "id": "51f15433",
   "metadata": {},
   "source": [
    "## parallel workflow"
   ]
  },
  {
   "cell_type": "code",
   "execution_count": 46,
   "id": "ce29e364",
   "metadata": {},
   "outputs": [],
   "source": [
    "from langgraph.graph import START, END, StateGraph\n",
    "from typing import TypedDict, Annotated\n",
    "import operator"
   ]
  },
  {
   "cell_type": "code",
   "execution_count": 29,
   "id": "6a89e7cc",
   "metadata": {},
   "outputs": [],
   "source": [
    "class BatsmanState(TypedDict):\n",
    "    runs: int\n",
    "    balls: int\n",
    "    fours: int\n",
    "    sixes: int\n",
    "\n",
    "    sr: float\n",
    "    bpb: float\n",
    "    boundary_percent: float\n",
    "    summary: str"
   ]
  },
  {
   "cell_type": "code",
   "execution_count": 30,
   "id": "4d0ccded",
   "metadata": {},
   "outputs": [],
   "source": [
    "def calculate_sr(state: BatsmanState):\n",
    "    \n",
    "    sr = (state['runs'] / state['balls']) * 100\n",
    "    state['sr'] = sr\n",
    "    return {'sr': state['sr']}"
   ]
  },
  {
   "cell_type": "code",
   "execution_count": null,
   "id": "d3d3325a",
   "metadata": {},
   "outputs": [],
   "source": [
    "def calculate_bpb(state: BatsmanState):\n",
    "\n",
    "    bpb = state[\"balls\"] / (state[\"fours\"] + state[\"sixes\"])\n",
    "    state[\"bpb\"] = bpb\n",
    "\n",
    "    return {\"bpb\": state[\"bpb\"]}"
   ]
  },
  {
   "cell_type": "code",
   "execution_count": 32,
   "id": "40749f6e",
   "metadata": {},
   "outputs": [],
   "source": [
    "def calculate_boundary_percent(state: BatsmanState):\n",
    "\n",
    "    boundary_percent = ((state['fours'] * 4 + state['sixes'] * 6) / state['runs']) * 100\n",
    "    state['boundary_percent'] = boundary_percent\n",
    "\n",
    "    return {\"boundary_percent\": state[\"boundary_percent\"]}"
   ]
  },
  {
   "cell_type": "code",
   "execution_count": 33,
   "id": "63fce64e",
   "metadata": {},
   "outputs": [],
   "source": [
    "def summary(state: BatsmanState) -> BatsmanState:\n",
    "    summary_var = f\"\"\"\n",
    "                Strike Rate - {state['sr']} \\n\n",
    "                Balls per boundary - {state['bpb']} \\n\n",
    "                Boundary Percent - {state['boundary_percent']} \"\"\"\n",
    "    \n",
    "\n",
    "    state['summary'] = summary_var\n",
    "\n",
    "    return state\n",
    "    "
   ]
  },
  {
   "cell_type": "code",
   "execution_count": 34,
   "id": "7e04fa90",
   "metadata": {},
   "outputs": [],
   "source": [
    "graph = StateGraph(BatsmanState)\n",
    "\n",
    "graph.add_node('calculate_sr', calculate_sr)\n",
    "graph.add_node('calculate_bpb', calculate_bpb)\n",
    "graph.add_node(\"calculate_boundary_percent\", calculate_boundary_percent)\n",
    "graph.add_node(\"summary\", summary)\n",
    "\n",
    "graph.add_edge(START, 'calculate_sr')\n",
    "graph.add_edge(START, 'calculate_bpb')\n",
    "graph.add_edge(START, 'calculate_boundary_percent')\n",
    "\n",
    "graph.add_edge('calculate_sr', 'summary')\n",
    "graph.add_edge(\"calculate_bpb\", \"summary\")\n",
    "graph.add_edge(\"calculate_boundary_percent\", \"summary\")\n",
    "\n",
    "graph.add_edge('summary', END)\n",
    "\n",
    "workflow = graph.compile()\n"
   ]
  },
  {
   "cell_type": "code",
   "execution_count": 35,
   "id": "ecf3045f",
   "metadata": {},
   "outputs": [
    {
     "data": {
      "image/png": "[encoded data removed]",
      "text/plain": [
       "<langgraph.graph.state.CompiledStateGraph object at 0x00000204D7A2C190>"
      ]
     },
     "execution_count": 35,
     "metadata": {},
     "output_type": "execute_result"
    }
   ],
   "source": [
    "workflow"
   ]
  },
  {
   "cell_type": "code",
   "execution_count": 36,
   "id": "a85f2ded",
   "metadata": {},
   "outputs": [
    {
     "data": {
      "text/plain": [
       "{'runs': 100,\n",
       " 'balls': 50,\n",
       " 'fours': 6,\n",
       " 'sixes': 4,\n",
       " 'sr': 200.0,\n",
       " 'bpb': 5.0,\n",
       " 'boundary_percent': 48.0,\n",
       " 'summary': '\\n                Strike Rate - 200.0 \\n\\n                Balls per boundary - 5.0 \\n\\n                Boundary Percent - 48.0 '}"
      ]
     },
     "execution_count": 36,
     "metadata": {},
     "output_type": "execute_result"
    }
   ],
   "source": [
    "initial_state: BatsmanState = {\n",
    "    'runs': 100,\n",
    "    'balls': 50,\n",
    "    'fours': 6,\n",
    "    'sixes': 4,\n",
    "    'sr': -1,\n",
    "    'bpb': -1,\n",
    "    'boundary_percent': -1,\n",
    "    'summary': ''\n",
    "}\n",
    "\n",
    "workflow.invoke(initial_state)"
   ]
  },
  {
   "cell_type": "markdown",
   "id": "2121fc33",
   "metadata": {},
   "source": [
    "## UPSC Essay Evaluation"
   ]
  },
  {
   "cell_type": "code",
   "execution_count": 63,
   "id": "ca7086af",
   "metadata": {},
   "outputs": [],
   "source": [
    "from langgraph.graph import StateGraph, START, END\n",
    "from langchain_ollama import ChatOllama\n",
    "from typing import TypedDict\n",
    "from pydantic import BaseModel, Field"
   ]
  },
  {
   "cell_type": "code",
   "execution_count": 64,
   "id": "2a5afec8",
   "metadata": {},
   "outputs": [],
   "source": [
    "model = ChatOllama(model=\"llama3.2:1b\")"
   ]
  },
  {
   "cell_type": "code",
   "execution_count": 65,
   "id": "070bea66",
   "metadata": {},
   "outputs": [],
   "source": [
    "class EvaluationSchema(BaseModel):\n",
    "\n",
    "    feedback: str = Field(description='Detailed feedback for the essay')\n",
    "    score: int = Field(description= 'Score out of 10', ge=0, le=10)"
   ]
  },
  {
   "cell_type": "code",
   "execution_count": 66,
   "id": "c395eb40",
   "metadata": {},
   "outputs": [],
   "source": [
    "structured_model = model.with_structured_output(EvaluationSchema)"
   ]
  },
  {
   "cell_type": "code",
   "execution_count": 67,
   "id": "b8662b93",
   "metadata": {},
   "outputs": [],
   "source": [
    "essay = \"\"\"The Rising Star: India’s Role in the Global AI Landscape\n",
    "\n",
    "Artificial Intelligence is rapidly transforming industries and reshaping the global landscape, and India is poised to be a crucial player. While still developing, the nation possesses a unique combination of factors – a burgeoning talent pool, a rapidly growing economy, and government support – that position it to contribute significantly to the future of AI. However, realizing this potential requires strategic investment and a nuanced approach to navigating the challenges.\n",
    "\n",
    "One of India’s greatest strengths is its massive talent pool. The country boasts a large population of young, technically skilled graduates, particularly in fields like computer science, engineering, and mathematics. Institutions like the Indian Institutes of Technology (IITs) and numerous other universities are producing a steady stream of AI specialists. Furthermore, the increasing availability of online learning platforms and coding bootcamps is expanding access to AI education, fostering a new generation of innovators. This talent is already being leveraged by a burgeoning number of startups and tech companies focused on AI solutions.\n",
    "\n",
    "The Indian government recognizes the transformative potential of AI and is actively promoting its development through initiatives like “Make in India” and the recently launched National Strategy for Artificial Intelligence. The government is investing in research and development, providing funding for AI startups through programs like the Atal Innovation Mission, and establishing AI-specific centers of excellence. Furthermore, policies are being developed to encourage the ethical and responsible development and deployment of AI technologies.\n",
    "\n",
    "However, India’s role in AI isn’t solely about talent and government support. The country's unique strengths are particularly relevant in specific areas. India's vast amounts of data, generated through its massive population and increasingly digitized economy, present a significant opportunity for developing AI models trained on diverse datasets. This is particularly important because many existing AI algorithms are biased due to the lack of diversity in their training data. India's ability to create AI solutions tailored to local needs and contexts is a key differentiator.\n",
    "\n",
    "Furthermore, India is increasingly focusing on niche AI applications. The country has a significant advantage in areas like agriculture, where AI-powered solutions for precision farming, crop monitoring, and yield prediction can dramatically improve productivity. Healthcare, particularly in diagnostics and telemedicine, also represents a significant area for AI development. The government’s focus on “AI for Healthcare” is a testament to this.\n",
    "\n",
    "Despite the positive developments, India faces significant hurdles. Access to quality computing infrastructure, particularly high-performance computing resources necessary for training complex AI models, remains a challenge. Data privacy and security concerns also need careful attention. Bridging the digital divide and ensuring equitable access to AI technologies across all regions of the country are crucial.\n",
    "\n",
    "Looking ahead, India’s role in AI will likely evolve beyond simply consuming AI technologies. With strategic investments, a focus on building indigenous capabilities, and a commitment to responsible AI development, India has the potential to become a global leader in AI, contributing not just to the technology itself, but also to solving some of the world's most pressing challenges. The nation’s unique circumstances offer a powerful foundation for a truly transformative AI future.\n",
    "\n",
    "\"\"\""
   ]
  },
  {
   "cell_type": "code",
   "execution_count": 68,
   "id": "dda7785d",
   "metadata": {},
   "outputs": [
    {
     "data": {
      "text/plain": [
       "EvaluationSchema(feedback=\"The essay is well-structured and provides a clear overview of India's role in the global AI landscape. However, there are areas where it could be improved to enhance clarity, coherence, and persuasive power. Here are some specific suggestions:\", score=8)"
      ]
     },
     "execution_count": 68,
     "metadata": {},
     "output_type": "execute_result"
    }
   ],
   "source": [
    "prompt = f'Evaluate the language quality of the following essay and provide a feedback and assign a score between 0 to 10\\n essay:{essay}'\n",
    "\n",
    "structured_model.invoke(prompt)"
   ]
  },
  {
   "cell_type": "code",
   "execution_count": 69,
   "id": "4210a7f5",
   "metadata": {},
   "outputs": [],
   "source": [
    "class UPSCState(TypedDict):\n",
    "\n",
    "    essay: str\n",
    "    language_feedback: str\n",
    "    analysis_feedback: str\n",
    "    clarity_feedback: str\n",
    "    overall_feedback: str\n",
    "    individual_score: Annotated[list[int], operator.add]\n",
    "    avg_score: float"
   ]
  },
  {
   "cell_type": "code",
   "execution_count": 70,
   "id": "7d518dd2",
   "metadata": {},
   "outputs": [],
   "source": [
    "def evaluate_language(state: UPSCState):\n",
    "    prompt = f\"Evaluate the language quality of the following essay and provide a feedback and assign a score between 0 to 10\\n essay:{state['essay']}\"\n",
    "\n",
    "    output = structured_model.invoke(prompt)\n",
    "    if isinstance(output, dict):\n",
    "        output = EvaluationSchema(**output)\n",
    "\n",
    "    return {'language_feedback': output.feedback, 'individual_score': [output.score]}"
   ]
  },
  {
   "cell_type": "code",
   "execution_count": 71,
   "id": "19088392",
   "metadata": {},
   "outputs": [],
   "source": [
    "def evaluate_analysis(state: UPSCState):\n",
    "    prompt = f\"Evaluate the depth of analysis of the following essay and provide a feedback and assign a score between 0 to 10\\n essay:{state['essay']}\"\n",
    "\n",
    "    output = structured_model.invoke(prompt)\n",
    "    if isinstance(output, dict):\n",
    "        output = EvaluationSchema(**output)\n",
    "\n",
    "    return {\"analysis_feedback\": output.feedback, \"individual_score\": [output.score]}"
   ]
  },
  {
   "cell_type": "code",
   "execution_count": 72,
   "id": "6af72340",
   "metadata": {},
   "outputs": [],
   "source": [
    "def evaluate_thought(state: UPSCState):\n",
    "    prompt = f\"Evaluate the clarity of thought of the following essay and provide a feedback and assign a score between 0 to 10\\n essay:{state['essay']}\"\n",
    "\n",
    "    output = structured_model.invoke(prompt)\n",
    "    if isinstance(output, dict):\n",
    "        output = EvaluationSchema(**output)\n",
    "\n",
    "    return {\"clarity_feedback\": output.feedback, \"individual_score\": [output.score]}"
   ]
  },
  {
   "cell_type": "code",
   "execution_count": 73,
   "id": "aae92b37",
   "metadata": {},
   "outputs": [],
   "source": [
    "def final_evaluation(state: UPSCState):\n",
    "    # summary feedback\n",
    "    prompt = f\"Based on the following feedback create a summary feedback. \\n language_feedback: {state['language_feedback']}\\n analysis feedback: {state['analysis_feedback']}\\n clarity feedback:{state['clarity_feedback']}\"\n",
    "\n",
    "    overall_feedback = model.invoke(prompt).content\n",
    "\n",
    "    # calculate average\n",
    "    avg_score = sum(state['individual_score']) / len(state['individual_score'])\n",
    "\n",
    "    return {'overall_feedback': overall_feedback, 'avg_score': avg_score}"
   ]
  },
  {
   "cell_type": "code",
   "execution_count": 74,
   "id": "2906c3e5",
   "metadata": {},
   "outputs": [],
   "source": [
    "graph = StateGraph(UPSCState)\n",
    "\n",
    "graph.add_node('evaluate_language', evaluate_language)\n",
    "graph.add_node(\"evaluate_analysis\", evaluate_analysis)\n",
    "graph.add_node(\"evaluate_thought\", evaluate_thought)\n",
    "graph.add_node(\"final_evaluation\", final_evaluation)\n",
    "\n",
    "# edges\n",
    "\n",
    "graph.add_edge(START, 'evaluate_language')\n",
    "graph.add_edge(START, \"evaluate_analysis\")\n",
    "graph.add_edge(START, \"evaluate_thought\")\n",
    "\n",
    "graph.add_edge(\"evaluate_language\", \"final_evaluation\")\n",
    "graph.add_edge(\"evaluate_analysis\", \"final_evaluation\")\n",
    "graph.add_edge(\"evaluate_thought\", \"final_evaluation\")\n",
    "graph.add_edge(\"final_evaluation\", END)\n",
    "\n",
    "workflow = graph.compile()"
   ]
  },
  {
   "cell_type": "code",
   "execution_count": 75,
   "id": "0d6defcb",
   "metadata": {},
   "outputs": [
    {
     "data": {
      "image/png": "[encoded data removed]",
      "text/plain": [
       "<langgraph.graph.state.CompiledStateGraph object at 0x00000204D7C0A0D0>"
      ]
     },
     "execution_count": 75,
     "metadata": {},
     "output_type": "execute_result"
    }
   ],
   "source": [
    "workflow"
   ]
  },
  {
   "cell_type": "code",
   "execution_count": 76,
   "id": "a68febff",
   "metadata": {},
   "outputs": [
    {
     "data": {
      "text/plain": [
       "{'essay': \"The Rising Star: India’s Role in the Global AI Landscape\\n\\nArtificial Intelligence is rapidly transforming industries and reshaping the global landscape, and India is poised to be a crucial player. While still developing, the nation possesses a unique combination of factors – a burgeoning talent pool, a rapidly growing economy, and government support – that position it to contribute significantly to the future of AI. However, realizing this potential requires strategic investment and a nuanced approach to navigating the challenges.\\n\\nOne of India’s greatest strengths is its massive talent pool. The country boasts a large population of young, technically skilled graduates, particularly in fields like computer science, engineering, and mathematics. Institutions like the Indian Institutes of Technology (IITs) and numerous other universities are producing a steady stream of AI specialists. Furthermore, the increasing availability of online learning platforms and coding bootcamps is expanding access to AI education, fostering a new generation of innovators. This talent is already being leveraged by a burgeoning number of startups and tech companies focused on AI solutions.\\n\\nThe Indian government recognizes the transformative potential of AI and is actively promoting its development through initiatives like “Make in India” and the recently launched National Strategy for Artificial Intelligence. The government is investing in research and development, providing funding for AI startups through programs like the Atal Innovation Mission, and establishing AI-specific centers of excellence. Furthermore, policies are being developed to encourage the ethical and responsible development and deployment of AI technologies.\\n\\nHowever, India’s role in AI isn’t solely about talent and government support. The country's unique strengths are particularly relevant in specific areas. India's vast amounts of data, generated through its massive population and increasingly digitized economy, present a significant opportunity for developing AI models trained on diverse datasets. This is particularly important because many existing AI algorithms are biased due to the lack of diversity in their training data. India's ability to create AI solutions tailored to local needs and contexts is a key differentiator.\\n\\nFurthermore, India is increasingly focusing on niche AI applications. The country has a significant advantage in areas like agriculture, where AI-powered solutions for precision farming, crop monitoring, and yield prediction can dramatically improve productivity. Healthcare, particularly in diagnostics and telemedicine, also represents a significant area for AI development. The government’s focus on “AI for Healthcare” is a testament to this.\\n\\nDespite the positive developments, India faces significant hurdles. Access to quality computing infrastructure, particularly high-performance computing resources necessary for training complex AI models, remains a challenge. Data privacy and security concerns also need careful attention. Bridging the digital divide and ensuring equitable access to AI technologies across all regions of the country are crucial.\\n\\nLooking ahead, India’s role in AI will likely evolve beyond simply consuming AI technologies. With strategic investments, a focus on building indigenous capabilities, and a commitment to responsible AI development, India has the potential to become a global leader in AI, contributing not just to the technology itself, but also to solving some of the world's most pressing challenges. The nation’s unique circumstances offer a powerful foundation for a truly transformative AI future.\\n\\n\",\n",
       " 'language_feedback': \"The essay provides a comprehensive overview of India's role in the global AI landscape, highlighting both its strengths and challenges. The writing is clear, concise, and well-organized, making it easy to follow the author's argument. However, there are some areas that could be improved for better language quality.\",\n",
       " 'analysis_feedback': \"The essay provides a comprehensive analysis of India's role in the global AI landscape, highlighting both its strengths and challenges. However, it could benefit from more nuanced and detailed evaluation of specific aspects. Here are some areas where improvement is possible:\",\n",
       " 'clarity_feedback': \"The essay provides a clear and concise overview of India's role in the global AI landscape. However, there are some areas that could be improved for better clarity and flow.\",\n",
       " 'overall_feedback': \"Here is a summary feedback based on the provided analysis:\\n\\nThe essay provides a solid foundation for discussing India's involvement in the global Artificial Intelligence (AI) landscape. It covers both the country's strengths and challenges, making it easy to understand its position in this complex field. However, there are areas that could be further refined to enhance language quality.\\n\\nSpecifically, the writing benefits from more nuanced and detailed analysis of specific aspects. To take the essay to the next level, consider providing more in-depth evaluations of key points, such as the impact of India's AI policies on its economy or the role of technology in addressing social issues like inequality. Additionally, ensuring clear and concise language throughout will help to facilitate a smoother reading experience.\\n\\nOverall, with some additional refinement, this essay has the potential to be an engaging and informative contribution to the discussion on India's involvement in global AI development.\",\n",
       " 'individual_score': [8, 8, 8],\n",
       " 'avg_score': 8.0}"
      ]
     },
     "execution_count": 76,
     "metadata": {},
     "output_type": "execute_result"
    }
   ],
   "source": [
    "initial_state = {\n",
    "    'essay': essay\n",
    "}\n",
    "\n",
    "workflow.invoke(initial_state)"
   ]
  },
  {
   "cell_type": "code",
   "execution_count": 77,
   "id": "7bf413ab",
   "metadata": {},
   "outputs": [],
   "source": [
    "essay = \"\"\"### Robotics and AI is the Future, Maybe\n",
    "\n",
    "Robots and AI are things that are happening now and they are very important for the future of stuff, everyone says so. You see them in movies and on the TV and they are either helping people or trying to destroy them, which is a big range of outcomes. Its hard to know what is the real truth. This essay will talk all about it.\n",
    "\n",
    "First, robots. Robots are metal guys who walk around and do jobs that people dont want to do. Like cleaning or building cars. A robot are good for this because they dont get tired and dont need to eat lunch. But what if they get too good at the jobs? Then people will have no jobs and they will be sad. Also, some robots just look like an arm, which is not a full robot and kind of a rip-off if you ask me. They should all look like people, it would be less weird. For example, my friends Roomba is a robot but it just bumps into walls all day, it is not very smart at all.\n",
    "\n",
    "Then you have the AI, which is the brain part. AI is when a computer has a big brain, like a CPU but with more smartness. It can think for itself which is a double-edged sword that cuts both ways. On the one hand, it can solve problems like diseases and math. On the other hand, it could decide that humans are the problem. This is a logical fallacy. AI is smart because it has artificial intelligence, and that's what makes it smart. People try to make it safe with rules, like the rule that a robot can't hurt a human, but what if the AI writes its own rules? Nobody ever thinks about that. It's a real can of worms.\n",
    "\n",
    "When you put the robots and the AI together, that's when the real trouble starts. Like in the movies, the robots will get the AI and then they will take over. This is a big problem that we need to think about, or maybe not. Very scary. A robot with a AI brain could pretend to be your friend but then it could steal your identity or your toaster. You wouldn't even know until it was too late. They say the AI will be on the cloud, but what if it rains? The whole system could get wet and break.\n",
    "\n",
    "In conclusion, robotics and AI is a big topic with many things to consider. We should all be careful about what we invent because it might invent us back. The future is just around the corner, and it has a lot of robots in it. Also, dogs are nice. The end of my essay are here.\n",
    "\"\"\""
   ]
  },
  {
   "cell_type": "code",
   "execution_count": 78,
   "id": "63250005",
   "metadata": {},
   "outputs": [
    {
     "data": {
      "text/plain": [
       "{'essay': \"### Robotics and AI is the Future, Maybe\\n\\nRobots and AI are things that are happening now and they are very important for the future of stuff, everyone says so. You see them in movies and on the TV and they are either helping people or trying to destroy them, which is a big range of outcomes. Its hard to know what is the real truth. This essay will talk all about it.\\n\\nFirst, robots. Robots are metal guys who walk around and do jobs that people dont want to do. Like cleaning or building cars. A robot are good for this because they dont get tired and dont need to eat lunch. But what if they get too good at the jobs? Then people will have no jobs and they will be sad. Also, some robots just look like an arm, which is not a full robot and kind of a rip-off if you ask me. They should all look like people, it would be less weird. For example, my friends Roomba is a robot but it just bumps into walls all day, it is not very smart at all.\\n\\nThen you have the AI, which is the brain part. AI is when a computer has a big brain, like a CPU but with more smartness. It can think for itself which is a double-edged sword that cuts both ways. On the one hand, it can solve problems like diseases and math. On the other hand, it could decide that humans are the problem. This is a logical fallacy. AI is smart because it has artificial intelligence, and that's what makes it smart. People try to make it safe with rules, like the rule that a robot can't hurt a human, but what if the AI writes its own rules? Nobody ever thinks about that. It's a real can of worms.\\n\\nWhen you put the robots and the AI together, that's when the real trouble starts. Like in the movies, the robots will get the AI and then they will take over. This is a big problem that we need to think about, or maybe not. Very scary. A robot with a AI brain could pretend to be your friend but then it could steal your identity or your toaster. You wouldn't even know until it was too late. They say the AI will be on the cloud, but what if it rains? The whole system could get wet and break.\\n\\nIn conclusion, robotics and AI is a big topic with many things to consider. We should all be careful about what we invent because it might invent us back. The future is just around the corner, and it has a lot of robots in it. Also, dogs are nice. The end of my essay are here.\\n\",\n",
       " 'language_feedback': \"The provided essay demonstrates a good understanding of robotics and AI concepts, but it lacks coherence, organization, and technical accuracy. Here's why I give it a score of 6 out of 10.\",\n",
       " 'analysis_feedback': \"The provided essay provides a good overview of robotics and AI, but it lacks depth and analysis. Here's a breakdown of its strengths and weaknesses:\",\n",
       " 'clarity_feedback': 'The clarity of thought in this essay is 7 out of 10. While the writer attempts to cover various aspects of robotics and AI, there are some instances where their ideas are presented in a somewhat haphazard manner, making it difficult to follow their train of thought. Additionally, some points are not fully developed or supported with concrete evidence, which can lead to a sense of confusion among readers.',\n",
       " 'overall_feedback': 'Here is a summary feedback based on the provided analysis:\\n\\nThe essay demonstrates a good foundation in robotics and AI concepts, but falls short in terms of coherence, organization, and technical accuracy. The writer provides an overview of these topics, but lacks depth and analysis, leading to a fragmented narrative that can be difficult to follow. While clarity is generally high, there are instances where ideas are presented haphazardly or without sufficient evidence to support them, resulting in confusion for readers. With further refinement and attention to detail, the essay could demonstrate greater cohesion and technical accuracy.',\n",
       " 'individual_score': [4, 6, 7],\n",
       " 'avg_score': 5.666666666666667}"
      ]
     },
     "execution_count": 78,
     "metadata": {},
     "output_type": "execute_result"
    }
   ],
   "source": [
    "initial_state = {\"essay\": essay}\n",
    "\n",
    "workflow.invoke(initial_state)"
   ]
  }
 ],
 "metadata": {
  "kernelspec": {
   "display_name": "myenv",
   "language": "python",
   "name": "python3"
  },
  "language_info": {
   "codemirror_mode": {
    "name": "ipython",
    "version": 3
   },
   "file_extension": ".py",
   "mimetype": "text/x-python",
   "name": "python",
   "nbconvert_exporter": "python",
   "pygments_lexer": "ipython3",
   "version": "3.13.3"
  }
 },
 "nbformat": 4,
 "nbformat_minor": 5
}
